{
 "cells": [
  {
   "cell_type": "markdown",
   "id": "10469599",
   "metadata": {},
   "source": [
    "# IMPORTING LIBRARIES"
   ]
  },
  {
   "cell_type": "code",
   "execution_count": null,
   "id": "33d2e3bd",
   "metadata": {},
   "outputs": [],
   "source": [
    "import numpy as np\n",
    "import pandas as pd\n",
    "import matplotlib.pyplot as plt\n",
    "import seaborn as sns"
   ]
  },
  {
   "cell_type": "code",
   "execution_count": null,
   "id": "e9f6a640",
   "metadata": {},
   "outputs": [],
   "source": [
    "import warnings\n",
    "warnings.filterwarnings('ignore')"
   ]
  },
  {
   "cell_type": "code",
   "execution_count": null,
   "id": "8776641b",
   "metadata": {},
   "outputs": [],
   "source": [
    "# Loading data sets\n",
    "appl_data=pd.read_csv('application_data.csv')\n"
   ]
  },
  {
   "cell_type": "markdown",
   "id": "b9e1bdd5",
   "metadata": {},
   "source": [
    "# DATA UNDERSTANDING"
   ]
  },
  {
   "cell_type": "code",
   "execution_count": null,
   "id": "a72c9ad7",
   "metadata": {},
   "outputs": [],
   "source": [
    "appl_data.shape"
   ]
  },
  {
   "cell_type": "code",
   "execution_count": null,
   "id": "56d26844",
   "metadata": {},
   "outputs": [],
   "source": [
    "appl_data.info(verbose=True)"
   ]
  },
  {
   "cell_type": "code",
   "execution_count": null,
   "id": "35ecbd79",
   "metadata": {},
   "outputs": [],
   "source": [
    "appl_data.describe(include='all')"
   ]
  },
  {
   "cell_type": "markdown",
   "id": "9f77f38c",
   "metadata": {},
   "source": [
    "# Data Cleaning"
   ]
  },
  {
   "cell_type": "markdown",
   "id": "4379d288",
   "metadata": {},
   "source": [
    "**CHECKING FOR MISSING VALUES IN COLUMNS**"
   ]
  },
  {
   "cell_type": "code",
   "execution_count": null,
   "id": "7780df79",
   "metadata": {},
   "outputs": [],
   "source": [
    "(appl_data.isnull().mean()*100).sort_values(ascending=False)  "
   ]
  },
  {
   "cell_type": "code",
   "execution_count": null,
   "id": "d865a7a9",
   "metadata": {},
   "outputs": [],
   "source": [
    "to_drop=(appl_data.isnull().mean()*100)[appl_data.isnull().mean()>0.48]"
   ]
  },
  {
   "cell_type": "markdown",
   "id": "a3175e23",
   "metadata": {},
   "source": [
    "* to_drop contains columns with more than 48% missing values.\n",
    " Imputing these columns might give a false information about the entire data set. So dropping these columns."
   ]
  },
  {
   "cell_type": "code",
   "execution_count": null,
   "id": "c0e7d103",
   "metadata": {},
   "outputs": [],
   "source": [
    "to_drop.index"
   ]
  },
  {
   "cell_type": "code",
   "execution_count": null,
   "id": "8b038b4d",
   "metadata": {},
   "outputs": [],
   "source": [
    "appl_data.drop(to_drop.index,axis=1,inplace=True) # dropping columns with more than 48% missing values"
   ]
  },
  {
   "cell_type": "markdown",
   "id": "d576222b",
   "metadata": {},
   "source": [
    "**The following columns doesnt appear to be driving factors for a person to be a defaulter. SO DROPPING THESE COLUMNS**\n",
    "*******************************************************************************************\n",
    "* 'REGION_POPULATION_RELATIVE' :Normalized population of region where client lives (higher number means the client lives in more populated region)\\\n",
    "* FLAG_PHONE : Did client provide home phone (1=YES, 0=NO)\n",
    "* REGION_RATING_CLIENT :Our rating of the region where client lives (1,2,3)\n",
    "* WEEKDAY_APPR_PROCESS_START : On which day of the week did the client apply for the loan\n",
    "* HOUR_APPR_PROCESS_START :Approximately at what hour did the client apply for the loan\n",
    "* REG_REGION_NOT_LIVE_REGION :Flag if client's permanent address does not match contact address (1=different, 0=same, at region level)\n",
    "* REG_REGION_NOT_WORK_REGION:Flag if client's permanent address does not match work address (1=different, 0=same, at region level)\n",
    "* LIVE_REGION_NOT_WORK_REGION:Flag if client's contact address does not match work address (1=different, 0=same, at region level)\n",
    "* EMERGENCYSTATE_MODE (Dont understand what this column represent)\n",
    "* EXT_SOURCE_2 (Dont understand what this column represent)\n",
    "* EXT_SOURCE_3(Dont understand what this column represent)\n",
    "* DAYS_LAST_PHONE_CHANGE\n"
   ]
  },
  {
   "cell_type": "code",
   "execution_count": null,
   "id": "f2dbad42",
   "metadata": {},
   "outputs": [],
   "source": [
    "col=['REGION_POPULATION_RELATIVE','FLAG_PHONE','REGION_RATING_CLIENT','WEEKDAY_APPR_PROCESS_START','HOUR_APPR_PROCESS_START','REG_REGION_NOT_WORK_REGION','LIVE_REGION_NOT_WORK_REGION','REG_REGION_NOT_LIVE_REGION','EMERGENCYSTATE_MODE','EXT_SOURCE_2','EXT_SOURCE_3','DAYS_LAST_PHONE_CHANGE']   \n",
    "appl_data.drop(col,axis=1,inplace=True)"
   ]
  },
  {
   "cell_type": "code",
   "execution_count": null,
   "id": "a2539439",
   "metadata": {},
   "outputs": [],
   "source": [
    "# shape of dataframe after dropping the columns\n",
    "appl_data.shape"
   ]
  },
  {
   "cell_type": "code",
   "execution_count": null,
   "id": "37799bee",
   "metadata": {},
   "outputs": [],
   "source": [
    " # checking columns those have null values\n",
    "appl_data.isnull().mean()[appl_data.isnull().mean()>0]*100 "
   ]
  },
  {
   "cell_type": "markdown",
   "id": "10952f97",
   "metadata": {},
   "source": [
    "**HANDLING MISSING VALUES IN OCCUPATION_TYPE COLUMN**\\\n",
    "OCCUPATION_TYPE column has more than 31% values missing "
   ]
  },
  {
   "cell_type": "code",
   "execution_count": null,
   "id": "505246b0",
   "metadata": {},
   "outputs": [],
   "source": [
    "appl_data['OCCUPATION_TYPE'].head()"
   ]
  },
  {
   "cell_type": "code",
   "execution_count": null,
   "id": "9b713a56",
   "metadata": {},
   "outputs": [],
   "source": [
    "appl_data['OCCUPATION_TYPE'].value_counts()"
   ]
  },
  {
   "cell_type": "markdown",
   "id": "b94f86aa",
   "metadata": {},
   "source": [
    "1) occupation of a person has direct impact on the TARGET column, so dropping it is not a good idea.\\\n",
    "2) filling the missing values with the most occured value('Laborers') in the OCCUPATION_TYPE column will imply all the missing values are 'Laborers'  which may not be true.\\\n",
    "3) Hence,filling the missing values with 'unavailable'."
   ]
  },
  {
   "cell_type": "code",
   "execution_count": null,
   "id": "7586a6f4",
   "metadata": {},
   "outputs": [],
   "source": [
    "# Replacing the missing values with 'unavailable'\n",
    "appl_data.loc[appl_data['OCCUPATION_TYPE'].isna(),'OCCUPATION_TYPE']='unavailable'"
   ]
  },
  {
   "cell_type": "code",
   "execution_count": null,
   "id": "c8760037",
   "metadata": {},
   "outputs": [],
   "source": [
    " # checking columns those have null value percentage greater 0\n",
    "appl_data.isnull().mean()[appl_data.isnull().mean()>0]*100 "
   ]
  },
  {
   "cell_type": "code",
   "execution_count": null,
   "id": "340e1398",
   "metadata": {},
   "outputs": [],
   "source": [
    "# The column in the following list have more than 13% missing values\n",
    "list1=['AMT_REQ_CREDIT_BUREAU_HOUR','AMT_REQ_CREDIT_BUREAU_DAY','AMT_REQ_CREDIT_BUREAU_WEEK','AMT_REQ_CREDIT_BUREAU_MON',\n",
    "       'AMT_REQ_CREDIT_BUREAU_QRT','AMT_REQ_CREDIT_BUREAU_YEAR'\n",
    "      ]"
   ]
  },
  {
   "cell_type": "markdown",
   "id": "ec2ce47b",
   "metadata": {},
   "source": [
    "**UNDERSTANG THE COLUMNS IN THE list1 LIST**\n",
    "* AMT_REQ_CREDIT_BUREAU_HOUR : Number of enquiries to Credit Bureau about the client one hour before application\n",
    "* AMT_REQ_CREDIT_BUREAU_DAY : Number of enquiries to Credit Bureau about the client one day before application\n",
    "* AMT_REQ_CREDIT_BUREAU_WEEK:Number of enquiries to Credit Bureau about the client one week before application\n",
    "* AMT_REQ_CREDIT_BUREAU_MON : Number of enquiries to Credit Bureau about the client one month before application\n",
    "* AMT_REQ_CREDIT_BUREAU_QRT : Number of enquiries to Credit Bureau about the client 3 month before application\n",
    "* AMT_REQ_CREDIT_BUREAU_YEAR :  Number of enquiries to Credit Bureau about the client one year before application"
   ]
  },
  {
   "cell_type": "code",
   "execution_count": null,
   "id": "ed74bd99",
   "metadata": {},
   "outputs": [],
   "source": [
    "#trying to get statistical information about the columns in list1\n",
    "appl_data[list1].describe()"
   ]
  },
  {
   "cell_type": "markdown",
   "id": "2de55060",
   "metadata": {},
   "source": [
    "**OBSERVATION**\n",
    "* AMT_REQ_CREDIT_BUREAU_HOUR\\\n",
    "    -  mean = 0.006402\n",
    "    -  median= 0\n",
    "    -  Since the column has more than 13% missing values, imputing with mean or median will give a false idea\\\n",
    "       about the data. \n",
    "* AMT_REQ_CREDIT_BUREAU_DAY\\\n",
    "    -  mean = 0.007000\n",
    "    -  median= 0\n",
    "    -  Since the column has more than 13% missing values, imputing with mean or median will give a false idea\\\n",
    "       about the data.\n",
    "* AMT_REQ_CREDIT_BUREAU_WEEK\\\n",
    "    -  mean = 0.034362\n",
    "    -  median= 0\n",
    "    -  Since the column has more than 13% missing values, imputing with mean or median will give a false idea\\\n",
    "       about the data.\n",
    "* AMT_REQ_CREDIT_BUREAU_MON\\\n",
    "    -  mean = 0.267395\n",
    "    -  median= 0\n",
    "    -  Since the column has more than 13% missing values, imputing with mean or median will give a false idea\\\n",
    "       about the data.       \n",
    "* AMT_REQ_CREDIT_BUREAU_QRT\\\n",
    "    -  mean = 0.265474\n",
    "    -  median= 0\n",
    "    -  Since the column has more than 13% missing values, imputing with mean or median will give a false idea\\\n",
    "       about the data.       \n",
    "* AMT_REQ_CREDIT_BUREAU_YEAR\\\n",
    "    -  mean = 1.899974\n",
    "    -  median= 0\n",
    "    -  Since the column has more than 13% missing values, imputing with mean or median will give a false idea\\\n",
    "       about the data.       "
   ]
  },
  {
   "cell_type": "markdown",
   "id": "12342935",
   "metadata": {},
   "source": [
    "**missing values in AMT_ANNUITY column**\n"
   ]
  },
  {
   "cell_type": "code",
   "execution_count": null,
   "id": "4fc622ef",
   "metadata": {},
   "outputs": [],
   "source": [
    "appl_data['AMT_ANNUITY'].head()"
   ]
  },
  {
   "cell_type": "code",
   "execution_count": null,
   "id": "31627a62",
   "metadata": {},
   "outputs": [],
   "source": [
    "appl_data['AMT_ANNUITY'].describe()"
   ]
  },
  {
   "cell_type": "code",
   "execution_count": null,
   "id": "5d226593",
   "metadata": {},
   "outputs": [],
   "source": [
    "sns.distplot(appl_data['AMT_ANNUITY'])"
   ]
  },
  {
   "cell_type": "markdown",
   "id": "b2a0a1e3",
   "metadata": {},
   "source": [
    "Clearly from the above distplot the distribution of AMT_ANNUITY is skewed. So mean may not be the correct estimation for the missing values. Its better to impute the missing values with the median."
   ]
  },
  {
   "cell_type": "code",
   "execution_count": null,
   "id": "300e8c47",
   "metadata": {},
   "outputs": [],
   "source": [
    "#filling the missing values of AMT_ANNUITY column with median\n",
    "appl_data['AMT_ANNUITY'].fillna(appl_data['AMT_ANNUITY'].median(),inplace=True)\n"
   ]
  },
  {
   "cell_type": "markdown",
   "id": "8bd6d4a9",
   "metadata": {},
   "source": [
    "**missing values in AMT_GOODS_PRICE column**"
   ]
  },
  {
   "cell_type": "code",
   "execution_count": null,
   "id": "e0ca4dde",
   "metadata": {},
   "outputs": [],
   "source": [
    "appl_data['AMT_GOODS_PRICE'].head()"
   ]
  },
  {
   "cell_type": "code",
   "execution_count": null,
   "id": "2a23c995",
   "metadata": {},
   "outputs": [],
   "source": [
    "appl_data['AMT_GOODS_PRICE'].describe()"
   ]
  },
  {
   "cell_type": "code",
   "execution_count": null,
   "id": "68372b79",
   "metadata": {},
   "outputs": [],
   "source": [
    "sns.distplot(appl_data['AMT_GOODS_PRICE'])"
   ]
  },
  {
   "cell_type": "markdown",
   "id": "57070f8f",
   "metadata": {},
   "source": [
    "Clearly from the above distplot the distribution of AMT_GOODS_PRICE is skewed. So mean may not be the correct estimation for the missing values. Its better to impute the missing values with the median."
   ]
  },
  {
   "cell_type": "code",
   "execution_count": null,
   "id": "fb0da14d",
   "metadata": {},
   "outputs": [],
   "source": [
    "#filling the missing values of AMT_ANNUITY column with median\n",
    "appl_data['AMT_GOODS_PRICE'].fillna(appl_data['AMT_GOODS_PRICE'].median(),inplace=True)"
   ]
  },
  {
   "cell_type": "markdown",
   "id": "c79375c0",
   "metadata": {},
   "source": [
    "**missing values in NAME_TYPE_SUITE columns**"
   ]
  },
  {
   "cell_type": "code",
   "execution_count": null,
   "id": "122d6693",
   "metadata": {},
   "outputs": [],
   "source": [
    "appl_data['NAME_TYPE_SUITE'].value_counts()"
   ]
  },
  {
   "cell_type": "code",
   "execution_count": null,
   "id": "97d69b07",
   "metadata": {},
   "outputs": [],
   "source": [
    "# NAME_TYPE_SUITE is a categoriacl column, we can repalce the missing values with the most occured value which is the mode of the column.\n",
    "appl_data['NAME_TYPE_SUITE'].fillna(appl_data['NAME_TYPE_SUITE'].mode()[0],inplace=True)\n"
   ]
  },
  {
   "cell_type": "markdown",
   "id": "472ba28a",
   "metadata": {},
   "source": [
    "**missing values in CNT_FAM_MEMBERS columns**"
   ]
  },
  {
   "cell_type": "code",
   "execution_count": null,
   "id": "248caeb1",
   "metadata": {},
   "outputs": [],
   "source": [
    "appl_data['CNT_FAM_MEMBERS'].head()"
   ]
  },
  {
   "cell_type": "code",
   "execution_count": null,
   "id": "09145e89",
   "metadata": {},
   "outputs": [],
   "source": [
    "appl_data['CNT_FAM_MEMBERS'].value_counts()"
   ]
  },
  {
   "cell_type": "markdown",
   "id": "be54ebf0",
   "metadata": {},
   "source": [
    "CNT_FAM_MEMBERS is a numerical column .We see that most of the people are in a family with 2 members.\\\n",
    "we can replace the missing values with the mode of the column."
   ]
  },
  {
   "cell_type": "code",
   "execution_count": null,
   "id": "04987e00",
   "metadata": {},
   "outputs": [],
   "source": [
    "appl_data['CNT_FAM_MEMBERS'].fillna(appl_data['CNT_FAM_MEMBERS'].mode()[0],inplace=True)\n",
    "# Filled the missing value in CNT_FAM_MEMBERS with mode of the column"
   ]
  },
  {
   "cell_type": "markdown",
   "id": "fa17277b",
   "metadata": {},
   "source": [
    "**handling null values in the following columns-**\n",
    "    - OBS_30_CNT_SOCIAL_CIRCLE ,DEF_30_CNT_SOCIAL_CIRCLE, OBS_60_CNT_SOCIAL_CIRCLE, DEF_60_CNT_SOCIAL_CIRCLE\\\n",
    "* column description:\n",
    "    * OBS_30_CNT_SOCIAL_CIRCLE : How many observation of client's social surroundings with observable 30 DPD (days past due) default\n",
    "    * DEF_30_CNT_SOCIAL_CIRCLE : How many observation of client's social surroundings defaulted on 30 DPD (days past due) \n",
    "    * OBS_60_CNT_SOCIAL_CIRCLE : How many observation of client's social surroundings with observable 60 DPD (days past due) default\n",
    "    * DEF_60_CNT_SOCIAL_CIRCLE : How many observation of client's social surroundings defaulted on 60 (days past due) DPD\n",
    "\n",
    "**checking rows which as null values in all the 4 above columns**"
   ]
  },
  {
   "cell_type": "code",
   "execution_count": null,
   "id": "7f32a835",
   "metadata": {},
   "outputs": [],
   "source": [
    "appl_data[(appl_data['OBS_30_CNT_SOCIAL_CIRCLE'].isnull())&(appl_data['DEF_30_CNT_SOCIAL_CIRCLE'].isnull())&\n",
    "          (appl_data['OBS_60_CNT_SOCIAL_CIRCLE'].isnull())&(appl_data['DEF_60_CNT_SOCIAL_CIRCLE'].isnull())\n",
    "         ]"
   ]
  },
  {
   "cell_type": "code",
   "execution_count": null,
   "id": "94e138f6",
   "metadata": {},
   "outputs": [],
   "source": [
    "appl_data=appl_data[~((appl_data['OBS_30_CNT_SOCIAL_CIRCLE'].isnull())&\n",
    "                      (appl_data['DEF_30_CNT_SOCIAL_CIRCLE'].isnull())&\n",
    "                      (appl_data['OBS_60_CNT_SOCIAL_CIRCLE'].isnull())&\n",
    "                      (appl_data['DEF_60_CNT_SOCIAL_CIRCLE'].isnull()))\n",
    "                   ]\n",
    "#Dropping the rows which has missing values in all the four columns OBS_30_CNT_SOCIAL_CIRCLE ,DEF_30_CNT_SOCIAL_CIRCLE, OBS_60_CNT_SOCIAL_CIRCLE , DEF_60_CNT_SOCIAL_CIRCLE"
   ]
  },
  {
   "cell_type": "code",
   "execution_count": null,
   "id": "91c96505",
   "metadata": {},
   "outputs": [],
   "source": [
    "# Shape of data after handling missing values\n",
    "appl_data.shape"
   ]
  },
  {
   "cell_type": "markdown",
   "id": "36852434",
   "metadata": {},
   "source": [
    "**FLAG DOCUMENT COLUMNS**\\\n",
    "FLAG_DOCUMENTS 2 TO 21 : THESE COLUMNS SHOW IF THE PARTICULAR DOCUMENT HAS BEEN SUBMITTE OR NOT.\n",
    "THESE 20 COLUMNS SEEM IRRELEVENT IN DECIDING WHETHER THE CLIENT WILL BE A DEFAULTER OR NOT\\\n",
    "SO DROPPING THESE 20 COLUMNS"
   ]
  },
  {
   "cell_type": "code",
   "execution_count": null,
   "id": "e0a42ce7",
   "metadata": {},
   "outputs": [],
   "source": [
    "document_cols=appl_data.loc[:,'FLAG_DOCUMENT_2':'FLAG_DOCUMENT_21'].columns\n",
    "appl_data.drop(document_cols,axis=1,inplace=True)"
   ]
  },
  {
   "cell_type": "code",
   "execution_count": null,
   "id": "1656c2d6",
   "metadata": {},
   "outputs": [],
   "source": [
    "appl_data.shape # CHECKING THE SHAPE OF THE DATA "
   ]
  },
  {
   "cell_type": "markdown",
   "id": "f554e2c8",
   "metadata": {},
   "source": [
    "# FIXING INCORRECT ROWS AND COLUMNS"
   ]
  },
  {
   "cell_type": "markdown",
   "id": "1eef257f",
   "metadata": {},
   "source": [
    "The entries in the columns DAYS_BIRTH','DAYS_EMPLOYED','DAYS_REGISTRATION','DAYS_ID_PUBLISH' are negative.\n",
    "Number of days cannot be negative so converting them into possitive and then converting days to years"
   ]
  },
  {
   "cell_type": "code",
   "execution_count": null,
   "id": "fd504b27",
   "metadata": {},
   "outputs": [],
   "source": [
    "# entries in lst are negative. converting them to possitive. and then converting days into years.\n",
    "lst=['DAYS_BIRTH','DAYS_EMPLOYED','DAYS_REGISTRATION','DAYS_ID_PUBLISH']\n",
    "for item in lst:\n",
    "    appl_data[item]=appl_data[item].apply(lambda x : abs(x))\n",
    "    appl_data[item]=appl_data[item].apply(lambda x :x/365)\n",
    "    appl_data[item]=appl_data[item].apply(lambda x: round(x,2))\n"
   ]
  },
  {
   "cell_type": "code",
   "execution_count": null,
   "id": "290cf67c",
   "metadata": {},
   "outputs": [],
   "source": [
    "# rounding off all coulms with days and changing the names of the columns \n",
    "appl_data['AGE']=round(appl_data['DAYS_BIRTH'],0)\n",
    "appl_data['YEARS_EMPLOYED']=round(appl_data['DAYS_EMPLOYED'],0)\n",
    "appl_data['YEARS_REGISTRATION']=round(appl_data['DAYS_REGISTRATION'],0)\n",
    "appl_data['YEARS_ID_PUBLISH']=round(appl_data['DAYS_ID_PUBLISH'],0)\n",
    "\n"
   ]
  },
  {
   "cell_type": "code",
   "execution_count": null,
   "id": "58ad665d",
   "metadata": {},
   "outputs": [],
   "source": [
    "#since age in days have been converted to years (age), we can drop the 'DAYS_BIRTH','DAYS_EMPLOYED' ,DAYS_REGISTRATION,'DAYS_ID_PUBLISH column\n",
    "appl_data.drop(['DAYS_BIRTH','DAYS_EMPLOYED','DAYS_REGISTRATION','DAYS_ID_PUBLISH'],axis=1,inplace=True)"
   ]
  },
  {
   "cell_type": "code",
   "execution_count": null,
   "id": "4b449566",
   "metadata": {},
   "outputs": [],
   "source": [
    "appl_data.head()"
   ]
  },
  {
   "cell_type": "markdown",
   "id": "98fb04fd",
   "metadata": {},
   "source": [
    "# Detecting Outliers"
   ]
  },
  {
   "cell_type": "code",
   "execution_count": null,
   "id": "7ed0716c",
   "metadata": {},
   "outputs": [],
   "source": [
    "numerical_columns=appl_data.dtypes[appl_data.dtypes!='object'].index\n",
    "numerical_columns"
   ]
  },
  {
   "cell_type": "code",
   "execution_count": null,
   "id": "b34ae3ea",
   "metadata": {},
   "outputs": [],
   "source": [
    "# outliers in AMT_INCOME_TOTAL column\n",
    "plt.boxplot(appl_data['AMT_INCOME_TOTAL'])\n",
    "plt.title('box plot representing the discribution of income')\n",
    "plt.ylabel('income')\n",
    "appl_data['AMT_INCOME_TOTAL'].describe()"
   ]
  },
  {
   "cell_type": "markdown",
   "id": "8cc24621",
   "metadata": {},
   "source": [
    "* The above box plot clearly shows that there are outliers present in the AMT_INCOME_TOTAL column"
   ]
  },
  {
   "cell_type": "code",
   "execution_count": null,
   "id": "a3562f02",
   "metadata": {},
   "outputs": [],
   "source": [
    "IQR=np.percentile(appl_data['AMT_INCOME_TOTAL'],75)-np.percentile(appl_data['AMT_INCOME_TOTAL'],25)  # calculating the inter quartile range\n",
    "upper_lim=np.percentile(appl_data['AMT_INCOME_TOTAL'],75)+1.5*IQR\n",
    "print(upper_lim)\n",
    "# any value above the upper_lim is considered as outliers."
   ]
  },
  {
   "cell_type": "code",
   "execution_count": null,
   "id": "34beba63",
   "metadata": {},
   "outputs": [],
   "source": [
    "#outliers in AMT_CREDIT column\n",
    "plt.boxplot(appl_data['AMT_CREDIT'])\n",
    "plt.title('box plot representing the distribution of credit amount',loc='right')\n",
    "plt.ylabel('income')\n",
    "appl_data['AMT_CREDIT'].describe()"
   ]
  },
  {
   "cell_type": "markdown",
   "id": "398c2053",
   "metadata": {},
   "source": [
    "* In the above boxplot, we see a lot of values above the upper whisker, which represents the outliers in the data "
   ]
  },
  {
   "cell_type": "code",
   "execution_count": null,
   "id": "c2a4c7fd",
   "metadata": {},
   "outputs": [],
   "source": [
    "\n",
    "IQR=np.percentile(appl_data['AMT_CREDIT'],75)-np.percentile(appl_data['AMT_CREDIT'],25)  # calculating the inter quartile range\n",
    "upper_lim=np.percentile(appl_data['AMT_CREDIT'],75)+1.5*IQR\n",
    "print(upper_lim)\n",
    "# any value above the upper_lim is considered as outliers."
   ]
  },
  {
   "cell_type": "code",
   "execution_count": null,
   "id": "e3d9c5cf",
   "metadata": {},
   "outputs": [],
   "source": [
    "#outliers in AMT_ANNUITY column\n",
    "plt.boxplot(appl_data['AMT_ANNUITY'])\n",
    "plt.title('box plot representing the distribution of amount annuity',loc='right')\n",
    "plt.ylabel('amount annuity')\n",
    "appl_data['AMT_ANNUITY'].describe()"
   ]
  },
  {
   "cell_type": "markdown",
   "id": "70ac9bed",
   "metadata": {},
   "source": [
    "* In the above boxplot, we see a lot of values above the upper whisker, which represents the outliers in the data "
   ]
  },
  {
   "cell_type": "code",
   "execution_count": null,
   "id": "02b908ae",
   "metadata": {},
   "outputs": [],
   "source": [
    "\n",
    "IQR=np.percentile(appl_data['AMT_ANNUITY'],75)-np.percentile(appl_data['AMT_ANNUITY'],25)  # calculating the inter quartile range\n",
    "upper_lim=np.percentile(appl_data['AMT_ANNUITY'],75)+1.5*IQR\n",
    "print(upper_lim)\n",
    "# any value above the upper_lim is considered as outliers."
   ]
  },
  {
   "cell_type": "code",
   "execution_count": null,
   "id": "e44da4d3",
   "metadata": {},
   "outputs": [],
   "source": [
    "#outliers in AMT_GOODS_PRICE column\n",
    "plt.boxplot(appl_data['AMT_GOODS_PRICE'])\n",
    "plt.title('box plot representing the distribution of price of goods',loc='right')\n",
    "plt.ylabel('price of goods')\n",
    "appl_data['AMT_GOODS_PRICE'].describe()"
   ]
  },
  {
   "cell_type": "markdown",
   "id": "e63a4107",
   "metadata": {},
   "source": [
    "* In the above boxplot, we see a lot of values above the upper whisker, which represents the outliers in the data \n"
   ]
  },
  {
   "cell_type": "code",
   "execution_count": null,
   "id": "a593d67e",
   "metadata": {},
   "outputs": [],
   "source": [
    "\n",
    "IQR=np.percentile(appl_data['AMT_GOODS_PRICE'],75)-np.percentile(appl_data['AMT_GOODS_PRICE'],25)  # calculating the inter quartile range\n",
    "upper_lim=np.percentile(appl_data['AMT_GOODS_PRICE'],75)+1.5*IQR\n",
    "print(upper_lim)\n",
    "# any value above the upper_lim is considered as outliers."
   ]
  },
  {
   "cell_type": "code",
   "execution_count": null,
   "id": "34a12a6a",
   "metadata": {},
   "outputs": [],
   "source": [
    "# checking for outliers in the age column\n",
    "appl_data['AGE'].plot.box()\n",
    "plt.title('boxplot showing distribution of age')\n",
    "plt.ylabel('age (in years)')\n"
   ]
  },
  {
   "cell_type": "markdown",
   "id": "0a23929d",
   "metadata": {},
   "source": [
    "* The boxplot shows there are no outliers in the age column"
   ]
  },
  {
   "cell_type": "code",
   "execution_count": null,
   "id": "61bef6e3",
   "metadata": {},
   "outputs": [],
   "source": [
    "appl_data['YEARS_EMPLOYED'].plot.box()"
   ]
  },
  {
   "cell_type": "markdown",
   "id": "c01e5470",
   "metadata": {},
   "source": [
    "* From the boxplot above we see there are entries of more than 1000 years of employment. which is clearly impossible"
   ]
  },
  {
   "cell_type": "code",
   "execution_count": null,
   "id": "e578e52e",
   "metadata": {},
   "outputs": [],
   "source": [
    "# checking for outliers in the CNT_CHILDREN column\n",
    "appl_data['CNT_CHILDREN'].plot.box()\n",
    "plt.title('boxplot showing distribution of number of children in different families')\n",
    "plt.ylabel('number of children')"
   ]
  },
  {
   "cell_type": "code",
   "execution_count": null,
   "id": "38c245c0",
   "metadata": {},
   "outputs": [],
   "source": [
    "# checking for outliers in the CNT_FAM_MEMBERS column\n",
    "appl_data['CNT_FAM_MEMBERS'].plot.box()\n",
    "plt.title('boxplot showing distribution of number of members in client family')\n",
    "plt.ylabel('number of members')"
   ]
  },
  {
   "cell_type": "markdown",
   "id": "2c550dd3",
   "metadata": {},
   "source": [
    "# UNIVARIATE ANALYSIS"
   ]
  },
  {
   "cell_type": "markdown",
   "id": "b2399c6b",
   "metadata": {},
   "source": [
    "# Univariate analysis on categorical columns"
   ]
  },
  {
   "cell_type": "code",
   "execution_count": null,
   "id": "a8484f15",
   "metadata": {},
   "outputs": [],
   "source": [
    "categorical_columns=appl_data.dtypes[appl_data.dtypes=='object'].index\n",
    "categorical_columns"
   ]
  },
  {
   "cell_type": "markdown",
   "id": "5016915f",
   "metadata": {},
   "source": [
    "**NAME_CONTRACT_TYPE**"
   ]
  },
  {
   "cell_type": "code",
   "execution_count": null,
   "id": "e203a152",
   "metadata": {},
   "outputs": [],
   "source": [
    "plt.figure(figsize=(15,10))\n",
    "plt.subplot(2,2,1)\n",
    "plt.pie(appl_data['NAME_CONTRACT_TYPE'].value_counts(normalize=True)*100,autopct='%.1f%%',labels=appl_data['NAME_CONTRACT_TYPE'].value_counts().index)\n",
    "plt.title('NAME_CONTRACT_TYPE');\n",
    "\n",
    "plt.subplot(2,2,2)\n",
    "sns.countplot(appl_data['NAME_CONTRACT_TYPE'], hue=appl_data['TARGET'])\n",
    "plt.title('NAME_CONTRACT_TYPE')\n",
    "plt.ylabel('number of people')"
   ]
  },
  {
   "cell_type": "markdown",
   "id": "d6b3bf23",
   "metadata": {},
   "source": [
    " **OBSERVATIONS : NAME_CONTRACT_TYPE**\n",
    "* Used pie-chart to analyze the percentage of cash loans and revolving loans\\\n",
    "    There are more of cash loans than revolving loans\n",
    "* Used countplot to see number of defaulters opted for cash loans and revolving loans\n",
    "     "
   ]
  },
  {
   "cell_type": "markdown",
   "id": "34a8b40e",
   "metadata": {},
   "source": [
    "**CODE_GENDER column**"
   ]
  },
  {
   "cell_type": "code",
   "execution_count": null,
   "id": "adb6b48e",
   "metadata": {},
   "outputs": [],
   "source": [
    "plt.figure(figsize=(15,10))\n",
    "plt.subplot(2,2,1)\n",
    "plt.pie(appl_data['CODE_GENDER'].value_counts(normalize=True)*100,autopct='%.1f%%',labels=appl_data['CODE_GENDER'].value_counts().index,explode=[0.1,0.1,0.1])    \n",
    "plt.title('CODE_GENDER');\n",
    "\n",
    "plt.subplot(2,2,2)\n",
    "sns.countplot(appl_data['CODE_GENDER'], hue=appl_data['TARGET'])\n",
    "plt.title('CODE_GENDER')\n",
    "plt.ylabel('number of people')"
   ]
  },
  {
   "cell_type": "markdown",
   "id": "cbbcb302",
   "metadata": {},
   "source": [
    "**OBSERVATIONS**\n",
    "* We see there are there 3 entries F()Female, M(Male) and XNA. \n",
    "    - (Making an assumption that XNA belong to other gender who dont classify themselves as male or female)\n",
    "* Used pie chart to see percentages of different gender types applying for loan.\n",
    "     * The percentage of female applying for loan is almost twice as much as that of male.\n",
    "* Countplot has been used to see the count of male , female and XNA in defaulters.\n",
    "     * There is not much difference in the number of male defaulter and female defaulters"
   ]
  },
  {
   "cell_type": "markdown",
   "id": "08cfc95b",
   "metadata": {},
   "source": [
    "**NAME_INCOME_TYPE column**"
   ]
  },
  {
   "cell_type": "code",
   "execution_count": null,
   "id": "cca05229",
   "metadata": {},
   "outputs": [],
   "source": [
    "plt.figure(figsize=(20,10))\n",
    "plt.subplot(2,2,1)\n",
    "plt.pie(appl_data['NAME_INCOME_TYPE'].value_counts(normalize=True)*100,autopct='%.1f%%',labels=appl_data['NAME_INCOME_TYPE'].value_counts().index,explode=[0.1]*8)    \n",
    "plt.title('NAME_INCOME_TYPE');\n",
    "\n",
    "\n",
    "plt.subplot(2,2,2)\n",
    "sns.countplot(appl_data['NAME_INCOME_TYPE'], hue=appl_data['TARGET'])\n",
    "plt.title('NAME_INCOME_TYPE')\n",
    "plt.ylabel('number of people')\n",
    "plt.xticks(rotation=90)\n",
    "plt.legend(loc='upper right');\n",
    "\n",
    "plt.subplot(2,2,3)\n",
    "sns.countplot(appl_data['NAME_INCOME_TYPE'], hue=appl_data['CODE_GENDER'])\n",
    "plt.title('NAME_INCOME_TYPE')\n",
    "plt.ylabel('number of people')\n",
    "plt.xticks(rotation=90)\n",
    "plt.legend(loc='upper right')\n",
    "#1.plotted a pie chat to see the percentage of applicants in each category of the NAME_INCOME_TYPE column\\\n",
    "#2.the second picture is of a countplot representing the count defaulters and non-defaulters in each category\\\n",
    "#3.2.the third picture is of a countplot representing the count of female , male,XNA in each category\n"
   ]
  },
  {
   "cell_type": "markdown",
   "id": "21ef578c",
   "metadata": {},
   "source": [
    "**OBSERVATIONS**\n",
    " * Majority of the clients have NAME_INCOME_TYPE as working.\n",
    " * Very few people inthe caregory of Student,Unemployed,Businessman,and Maternity Leave who have applied for loan\n",
    "\n"
   ]
  },
  {
   "cell_type": "markdown",
   "id": "ecfc2f63",
   "metadata": {},
   "source": [
    "**NAME_FAMILY_STATUS column**"
   ]
  },
  {
   "cell_type": "code",
   "execution_count": null,
   "id": "1ba25a2e",
   "metadata": {},
   "outputs": [],
   "source": [
    "(appl_data['NAME_FAMILY_STATUS'].value_counts(normalize=True)*100).plot(kind='pie',rotatelabels=True,autopct='%.1f%%',explode=[0.1]*6);\n",
    "plt.title('PERCENTAGE OF FAMILY-STATE OF DIFFERENT PEOPLE',loc='left')\n",
    "#Pie plot showing percentages of various categories in the NAME_FAMILY_STATUS column."
   ]
  },
  {
   "cell_type": "markdown",
   "id": "a9a7610a",
   "metadata": {},
   "source": [
    "**OBSERVATIONS**\n",
    "* Majority of the applicants are married. \n",
    "* there are very few applicants who are widow or whose family status is unknown"
   ]
  },
  {
   "cell_type": "markdown",
   "id": "069e0d66",
   "metadata": {},
   "source": [
    "**ORGANIZATION_TYPE column**"
   ]
  },
  {
   "cell_type": "code",
   "execution_count": null,
   "id": "0aeb8570",
   "metadata": {},
   "outputs": [],
   "source": [
    "plt.figure(figsize=(10,5))\n",
    "(appl_data['ORGANIZATION_TYPE'].value_counts(normalize=True)*100).plot(kind='bar',width=0.5,align='center',edgecolor='black',color='red');\n",
    "plt.ylabel('percentage')\n",
    "plt.xlabel('ORGANIZATION TYPE')\n",
    "plt.title('PERCENTAGE OF PEOPLE IN DIFFERENT ORGANIZATION')\n",
    "# Bar graph representing the percentage of people in each category of ORGANIZATION_TYPE column"
   ]
  },
  {
   "cell_type": "markdown",
   "id": "4f9afd85",
   "metadata": {},
   "source": [
    "**OBSERVATIONS**\n",
    "* Majority of the applicants are in Business Entity Type 3\\\n",
    "* There are least number of people in Industry Type 8\n"
   ]
  },
  {
   "cell_type": "markdown",
   "id": "95085680",
   "metadata": {},
   "source": [
    "**NAME_EDUCATION_TYPE column**"
   ]
  },
  {
   "cell_type": "code",
   "execution_count": null,
   "id": "5da64a39",
   "metadata": {},
   "outputs": [],
   "source": [
    "plt.figure(figsize=(16,9))\n",
    "plt.subplot(2,2,1)\n",
    "plt.pie(appl_data['NAME_EDUCATION_TYPE'].value_counts(normalize=True)*100,autopct='%.1f%%',labels=appl_data['NAME_EDUCATION_TYPE'].value_counts().index,explode=[0.25]*5)    \n",
    "plt.title('NAME_EDUCATION_TYPE');\n",
    "\n",
    "\n",
    "plt.subplot(2,2,2)\n",
    "sns.countplot(appl_data['NAME_EDUCATION_TYPE'], hue=appl_data['TARGET'])\n",
    "plt.title('NAME_INCOME_TYPE')\n",
    "plt.ylabel('number of people')\n",
    "plt.xticks(rotation=90)\n",
    "plt.legend(loc='upper right');"
   ]
  },
  {
   "cell_type": "markdown",
   "id": "25c12b7b",
   "metadata": {},
   "source": [
    "**OBSERVATIONS**\n",
    "1. first is a pie plot representing percentage of people in different categories of NAME_EDUCATION_TYPE column\n",
    "2. second is a count plot representing number of defaulters and non defaulters in each category of the NAME_EDUCATION_TYPE column"
   ]
  },
  {
   "cell_type": "markdown",
   "id": "c3c5d4d2",
   "metadata": {},
   "source": [
    "* Majority of the applicants have a Secondary / Secondary special education\\\n",
    "* Very less percentage of applicants  have either an academic degree or lower secondary or incomplete higher education"
   ]
  },
  {
   "cell_type": "markdown",
   "id": "8d8e1ff1",
   "metadata": {},
   "source": [
    "**OCCUPATION_TYPE column**"
   ]
  },
  {
   "cell_type": "code",
   "execution_count": null,
   "id": "26aba91f",
   "metadata": {},
   "outputs": [],
   "source": [
    "(appl_data['OCCUPATION_TYPE'].value_counts(normalize=True)*100).plot(kind='barh',color='red',edgecolor='black');\n",
    "plt.ylabel('OCCUPATION_TYPE')\n",
    "plt.xlabel('percentage')\n",
    "plt.title('OCCUPATION_TYPE OF PEOPLE APPLYING FOR LOAN',loc='left')\n"
   ]
  },
  {
   "cell_type": "markdown",
   "id": "e31a5c11",
   "metadata": {},
   "source": [
    "1.  count plot representing percentage of people in each category of the OCCUPATION_TYPE column"
   ]
  },
  {
   "cell_type": "markdown",
   "id": "84109e9a",
   "metadata": {},
   "source": [
    "**OBSERVATIONS**\n",
    "* Majority of the application whose Occupation type are mentioned are Laborers\n",
    "* The least of the applicants are from IT staff"
   ]
  },
  {
   "cell_type": "markdown",
   "id": "e9ebaac8",
   "metadata": {},
   "source": [
    "# UNIVARIATE ANALYSIS ON NUMERICAL COLUMNS"
   ]
  },
  {
   "cell_type": "code",
   "execution_count": null,
   "id": "33ba5f68",
   "metadata": {},
   "outputs": [],
   "source": [
    "numerical_cols=appl_data.dtypes[appl_data.dtypes!='object'].index\n",
    "numerical_cols"
   ]
  },
  {
   "cell_type": "code",
   "execution_count": null,
   "id": "90b8e4a4",
   "metadata": {},
   "outputs": [],
   "source": [
    "sns.distplot(appl_data['AMT_INCOME_TOTAL'],color='r')\n",
    "plt.title('AMT_INCOME_TOTAL')\n",
    "# Distribution plot of the income of the client"
   ]
  },
  {
   "cell_type": "markdown",
   "id": "15e0b77f",
   "metadata": {},
   "source": [
    "AMT_INCOME_TOTAL column contains outliers. \n",
    "plotting a distribution plot of the column without the outliers"
   ]
  },
  {
   "cell_type": "code",
   "execution_count": null,
   "id": "f054e513",
   "metadata": {},
   "outputs": [],
   "source": [
    "# creating a series of the AMT_INCOME_TOTAL columns whose values are less than 99th percentile \n",
    "np.percentile(appl_data['AMT_INCOME_TOTAL'],99)\n",
    "INCOME_no_outlier=appl_data[appl_data['AMT_INCOME_TOTAL']<np.percentile(appl_data['AMT_INCOME_TOTAL'],99)]['AMT_INCOME_TOTAL']\n"
   ]
  },
  {
   "cell_type": "code",
   "execution_count": null,
   "id": "c9830917",
   "metadata": {},
   "outputs": [],
   "source": [
    "# plotting the column AMT_INCOME_TOTAL without outlier\n",
    "sns.distplot(INCOME_no_outlier,color='r')\n",
    "plt.title('AMT_INCOME_TOTAL_no(without outliers)')"
   ]
  },
  {
   "cell_type": "markdown",
   "id": "f9a71f71",
   "metadata": {},
   "source": [
    "**OBSERVATIONS**\n",
    "* We see the plot is slightly skewed towards the left\n",
    "* We see the density is the highest in the range 1lakh to 2lakhs "
   ]
  },
  {
   "cell_type": "code",
   "execution_count": null,
   "id": "74469483",
   "metadata": {},
   "outputs": [],
   "source": [
    "# plotting distribution of AMT_CREDIT column\n",
    "sns.distplot(appl_data['AMT_CREDIT'],color='g')\n",
    "plt.title('AMT_CREDIT') \n"
   ]
  },
  {
   "cell_type": "markdown",
   "id": "6da2408c",
   "metadata": {},
   "source": [
    "**OBSERVATIONS**\n",
    "* From the above plot we see the distribution of the AMT_CREDIT  is skewed towards the left\n",
    "* We observe the highest density to be somewhere around 3 lakhs"
   ]
  },
  {
   "cell_type": "code",
   "execution_count": null,
   "id": "e56d246c",
   "metadata": {},
   "outputs": [],
   "source": [
    "# plotting distribution of AMT_ANNUITY column\n",
    "\n",
    "\n",
    "sns.distplot(appl_data['AMT_ANNUITY'])\n",
    "plt.title('AMT_ANNUITY')\n"
   ]
  },
  {
   "cell_type": "markdown",
   "id": "c7df5663",
   "metadata": {},
   "source": [
    "**OBSERVATIONS**\n",
    "* From the above plot we see the distribution of the AMT_ANNUITY  is skewed towards left.\n",
    "* The highest observation is somewhere around 25000"
   ]
  },
  {
   "cell_type": "code",
   "execution_count": null,
   "id": "a9f6e73a",
   "metadata": {},
   "outputs": [],
   "source": [
    "# plotting distribution of AMT_ANNUITY column\n",
    "sns.distplot(appl_data['AMT_GOODS_PRICE'],color='orange')\n",
    "plt.title('AMT_GOODS_PRICE')\n"
   ]
  },
  {
   "cell_type": "markdown",
   "id": "649332ea",
   "metadata": {},
   "source": [
    "**OBSERVATIONS**\n",
    "* From the above plot we see the distribution of the AMT_ANNUITY  is skewed towards the left\n",
    "\n"
   ]
  },
  {
   "cell_type": "code",
   "execution_count": null,
   "id": "5f230e4b",
   "metadata": {},
   "outputs": [],
   "source": [
    "sns.histplot(appl_data['AGE'],color='green')\n",
    "plt.title('AGE')\n",
    "#Plotting distribution of age of the client"
   ]
  },
  {
   "cell_type": "markdown",
   "id": "e9da892d",
   "metadata": {},
   "source": [
    "**OBSERVATIONS**\n",
    "we see most of the apllicants are in 25 to 60 years range"
   ]
  },
  {
   "cell_type": "markdown",
   "id": "4a116076",
   "metadata": {},
   "source": [
    "# BIVARIATE AND MULTIVARIATE ANALYSIS"
   ]
  },
  {
   "cell_type": "code",
   "execution_count": null,
   "id": "c1bdc84f",
   "metadata": {},
   "outputs": [],
   "source": [
    "#checking correlation betewen diffent variables.\n",
    "numerical_cols2=appl_data.dtypes[appl_data.dtypes!='object'].index\n",
    "numerical_cols2"
   ]
  },
  {
   "cell_type": "markdown",
   "id": "19ddf5a5",
   "metadata": {},
   "source": [
    "The correlation between two variables ranges from -1 to 1. Negative value denotes negative correlation between variables and possitive value denotes possitive correlation. \n",
    "We are interested if there is a relation between the variables, doesnt matter possitive or negative. \n",
    "So taking absolute value of the correlation."
   ]
  },
  {
   "cell_type": "code",
   "execution_count": null,
   "id": "0be95274",
   "metadata": {},
   "outputs": [],
   "source": [
    "corr_df=abs(appl_data[numerical_cols2].corr())\n",
    "corr_df"
   ]
  },
  {
   "cell_type": "markdown",
   "id": "922e4fed",
   "metadata": {},
   "source": [
    "**PLOTTING HEATMAP FOR NUMERICAL COLUMNS**"
   ]
  },
  {
   "cell_type": "code",
   "execution_count": null,
   "id": "756c9e8d",
   "metadata": {},
   "outputs": [],
   "source": [
    "plt.figure(figsize=(30,30));\n",
    "sns.heatmap(appl_data[numerical_cols2].corr(),cmap='crest', annot=True,square=False)\n",
    "# Plotting the heatmap showing relation between numerical columns"
   ]
  },
  {
   "cell_type": "code",
   "execution_count": null,
   "id": "0fc01388",
   "metadata": {},
   "outputs": [],
   "source": [
    "# correlation of one column with itself is always 1. Removing all such pairs.\n",
    "corr=corr_df.unstack()[corr_df.unstack()!=1]\n",
    "corr.sort_values(ascending=False).head(22)"
   ]
  },
  {
   "cell_type": "markdown",
   "id": "06b08097",
   "metadata": {},
   "source": [
    "# TOP 10 CORRELATIONS"
   ]
  },
  {
   "cell_type": "code",
   "execution_count": null,
   "id": "876c9032",
   "metadata": {},
   "outputs": [],
   "source": [
    "\n",
    "#\n",
    "'''TOP 10 CORRELATIONS\n",
    "    AMT_ANNUITY               AMT_GOODS_PRICE             0.773992\n",
    "\n",
    "    AMT_CREDIT                AMT_ANNUITY                 0.769366\n",
    "\n",
    "     DAYS_EMPLOYED             AGE                         0.623992\n",
    "\n",
    "    AMT_GOODS_PRICE           AMT_CREDIT                  0.986732\n",
    "    CNT_CHILDREN              CNT_FAM_MEMBERS             0.879228\n",
    "\n",
    "    DAYS_EMPLOYED             FLAG_EMP_PHONE              0.999753\n",
    "\n",
    "    OBS_60_CNT_SOCIAL_CIRCLE  OBS_30_CNT_SOCIAL_CIRCLE    0.998490\n",
    "\n",
    "    FLAG_EMP_PHONE            AGE                         0.619941\n",
    "\n",
    "    DEF_30_CNT_SOCIAL_CIRCLE  DEF_60_CNT_SOCIAL_CIRCLE    0.860517\n",
    "\n",
    "    LIVE_CITY_NOT_WORK_CITY   REG_CITY_NOT_WORK_CITY      0.825615'''\n",
    "\n",
    "\n"
   ]
  },
  {
   "cell_type": "markdown",
   "id": "896e0582",
   "metadata": {},
   "source": [
    "**Plotting scatter plot to see the relation between the pairs of variables in the top 10 correlation list**"
   ]
  },
  {
   "cell_type": "markdown",
   "id": "8d102d68",
   "metadata": {},
   "source": [
    "CNT_CHILDREN and CNT_FAM_MEMBERS"
   ]
  },
  {
   "cell_type": "code",
   "execution_count": null,
   "id": "1c221a54",
   "metadata": {},
   "outputs": [],
   "source": [
    "sns.scatterplot(appl_data['CNT_CHILDREN'],appl_data['CNT_FAM_MEMBERS'])\n",
    "plt.title('Relation between number of children and number of family members')"
   ]
  },
  {
   "cell_type": "markdown",
   "id": "8b563ddf",
   "metadata": {},
   "source": [
    "**OBSERVATIONS**\\\n",
    "The above scatterplot shows, more the family members more will be the number of children"
   ]
  },
  {
   "cell_type": "markdown",
   "id": "100f373a",
   "metadata": {},
   "source": [
    "AMT_ANNUITY and AMT_GOODS_PRICE"
   ]
  },
  {
   "cell_type": "code",
   "execution_count": null,
   "id": "d1866ffb",
   "metadata": {},
   "outputs": [],
   "source": [
    "sns.scatterplot(appl_data['AMT_ANNUITY'],appl_data['AMT_GOODS_PRICE'])\n",
    "plt.title('Relation between AMT_ANNUITY and AMT_GOODS_PRICEs', loc='right')"
   ]
  },
  {
   "cell_type": "markdown",
   "id": "705e4fae",
   "metadata": {},
   "source": [
    "**OBSERVATIONS**\\\n",
    "From the above scatterplot we see that as the price of goods rises, the amount annuity also increases"
   ]
  },
  {
   "cell_type": "markdown",
   "id": "36482ef0",
   "metadata": {},
   "source": [
    "AMT_CREDIT and AMT_ANNUITY"
   ]
  },
  {
   "cell_type": "code",
   "execution_count": null,
   "id": "f20b6bba",
   "metadata": {},
   "outputs": [],
   "source": [
    "sns.scatterplot(appl_data['AMT_CREDIT'],appl_data['AMT_ANNUITY'])\n",
    "plt.title('Relation between credit amount and amount annuity')"
   ]
  },
  {
   "cell_type": "markdown",
   "id": "4f751a6d",
   "metadata": {},
   "source": [
    "**OBSERVATIONS**\\\n",
    "From the above scatter plot we see as the credit amount increases , the amount annuity increases"
   ]
  },
  {
   "cell_type": "markdown",
   "id": "fd793fc1",
   "metadata": {},
   "source": [
    "AMT_GOODS_PRICE and AMT_CREDIT"
   ]
  },
  {
   "cell_type": "code",
   "execution_count": null,
   "id": "373f1789",
   "metadata": {},
   "outputs": [],
   "source": [
    "sns.scatterplot(appl_data['AMT_GOODS_PRICE'],appl_data['AMT_CREDIT'])\n",
    "plt.title('Relation between prive of goods  and amount credit')"
   ]
  },
  {
   "cell_type": "markdown",
   "id": "059f5eb7",
   "metadata": {},
   "source": [
    "**OBSERVATIONS**\\\n",
    "From the scattter plot above, we see a stong relation between  price of goods and amount of credit .\\\n",
    "As the goods price increase , the amount credit also increases.\n"
   ]
  },
  {
   "cell_type": "markdown",
   "id": "a466040e",
   "metadata": {},
   "source": [
    "YEARS_EMPLOYED and AGE"
   ]
  },
  {
   "cell_type": "code",
   "execution_count": null,
   "id": "b3a738a7",
   "metadata": {},
   "outputs": [],
   "source": [
    "sns.scatterplot(appl_data['YEARS_EMPLOYED'],appl_data['AGE'])\n",
    "plt.title('Relation between age of the person and years employed')"
   ]
  },
  {
   "cell_type": "markdown",
   "id": "ab9f65ac",
   "metadata": {},
   "source": [
    "**OBSERVATIONS**\\\n",
    "In the above scatter plot we see years of employment being more than 1000 years, which isnt possible.\n",
    "we see as the age increases, so does the number of years being employed\n",
    "Removing the outliers in the employed column and then plotting the same scatterplot bellow."
   ]
  },
  {
   "cell_type": "code",
   "execution_count": null,
   "id": "0676f79e",
   "metadata": {},
   "outputs": [],
   "source": [
    "sns.scatterplot(appl_data['AGE'],appl_data[appl_data['YEARS_EMPLOYED']<1000]['YEARS_EMPLOYED'])  \n",
    "# plotting the scatter plot without the outliers in the YEARS_EMPLOYED column\n",
    "plt.title('Relation between age of the person and years employed')"
   ]
  },
  {
   "cell_type": "markdown",
   "id": "74f152ea",
   "metadata": {},
   "source": [
    "**OBSERVATIONS**\\\n",
    "So we see the maximum years a person has been employed is around 50 years.\\\n",
    "Years of employment increases as the age increases,\n",
    "there are aslo entries which shows that there are clients with age greater 50 with less than 10 years of employment."
   ]
  },
  {
   "cell_type": "markdown",
   "id": "2bfc2b80",
   "metadata": {},
   "source": [
    "YEARS_EMPLOYED and FLAG_EMP_PHONE"
   ]
  },
  {
   "cell_type": "code",
   "execution_count": null,
   "id": "b7ad52ad",
   "metadata": {},
   "outputs": [],
   "source": [
    "sns.scatterplot(appl_data['YEARS_EMPLOYED'],appl_data['FLAG_EMP_PHONE'])\n",
    "plt.title('Relation between years of empolyment  and the client providing work phone number')\n",
    "# 0 for client provided the work phone number 1 for not providing work phone number"
   ]
  },
  {
   "cell_type": "markdown",
   "id": "3c52c633",
   "metadata": {},
   "source": [
    "OBS_60_CNT_SOCIAL_CIRCLE and OBS_30_CNT_SOCIAL_CIRCLE"
   ]
  },
  {
   "cell_type": "code",
   "execution_count": null,
   "id": "802c878a",
   "metadata": {},
   "outputs": [],
   "source": [
    "\n",
    "sns.scatterplot(appl_data['OBS_60_CNT_SOCIAL_CIRCLE'],appl_data['OBS_30_CNT_SOCIAL_CIRCLE'])\n"
   ]
  },
  {
   "cell_type": "markdown",
   "id": "c23fe42e",
   "metadata": {},
   "source": [
    "FLAG_EMP_PHONE and AGE"
   ]
  },
  {
   "cell_type": "code",
   "execution_count": null,
   "id": "44bb7e99",
   "metadata": {},
   "outputs": [],
   "source": [
    "\n",
    "sns.scatterplot(appl_data['FLAG_EMP_PHONE'],appl_data['AGE'])\n"
   ]
  },
  {
   "cell_type": "markdown",
   "id": "82d8eeed",
   "metadata": {},
   "source": [
    "DEF_30_CNT_SOCIAL_CIRCLE and DEF_60_CNT_SOCIAL_CIRCLE"
   ]
  },
  {
   "cell_type": "code",
   "execution_count": null,
   "id": "a3b7b659",
   "metadata": {},
   "outputs": [],
   "source": [
    "\n",
    "sns.scatterplot(appl_data['DEF_30_CNT_SOCIAL_CIRCLE'],appl_data['DEF_60_CNT_SOCIAL_CIRCLE'])\n"
   ]
  },
  {
   "cell_type": "markdown",
   "id": "3b74e46c",
   "metadata": {},
   "source": [
    "LIVE_CITY_NOT_WORK_CITY and REG_CITY_NOT_WORK_CITY"
   ]
  },
  {
   "cell_type": "code",
   "execution_count": null,
   "id": "2cdb835e",
   "metadata": {},
   "outputs": [],
   "source": [
    "\n",
    "sns.scatterplot(appl_data['LIVE_CITY_NOT_WORK_CITY'],appl_data['REG_CITY_NOT_WORK_CITY'])\n"
   ]
  },
  {
   "cell_type": "markdown",
   "id": "d64ced4d",
   "metadata": {},
   "source": [
    "# SEGMENTING THE DATA BASED ON DEFAULTERS AND NON-DEFAULTERS"
   ]
  },
  {
   "cell_type": "code",
   "execution_count": null,
   "id": "47ea3458",
   "metadata": {},
   "outputs": [],
   "source": [
    "defaulters=appl_data[appl_data['TARGET']==1]\n",
    "non_defaulters=appl_data[appl_data['TARGET']==0]\n",
    "defaulters.dtypes"
   ]
  },
  {
   "cell_type": "code",
   "execution_count": null,
   "id": "57b321c2",
   "metadata": {},
   "outputs": [],
   "source": [
    "#checking imbalance in the data\n",
    "target_1=defaulters.shape[0]\n",
    "target_0=non_defaulters.shape[0]"
   ]
  },
  {
   "cell_type": "code",
   "execution_count": null,
   "id": "8c1af4a0",
   "metadata": {},
   "outputs": [],
   "source": [
    "# Ratio of non_defaulters todefaulters\n",
    "target_0/target_1"
   ]
  },
  {
   "cell_type": "code",
   "execution_count": null,
   "id": "7c892b52",
   "metadata": {},
   "outputs": [],
   "source": [
    "categorical_cols=defaulters.dtypes[defaulters.dtypes=='object'].index\n",
    "categorical_cols"
   ]
  },
  {
   "cell_type": "markdown",
   "id": "0a898215",
   "metadata": {},
   "source": [
    "Plotting count plots for defauters and non-defaulters for every categorical column"
   ]
  },
  {
   "cell_type": "markdown",
   "id": "c56114cf",
   "metadata": {},
   "source": [
    "**NAME_CONTRACT_TYPE**"
   ]
  },
  {
   "cell_type": "code",
   "execution_count": null,
   "id": "66d363e0",
   "metadata": {},
   "outputs": [],
   "source": [
    "plt.figure(figsize=(12,10))\n",
    "plt.subplot(2,2,1)\n",
    "sns.countplot(defaulters['NAME_CONTRACT_TYPE'])    \n",
    "plt.title('NAME_CONTRACT_TYPE(For defaulters)')\n",
    "plt.ylabel('number of people')\n",
    "plt.xticks(rotation=90)\n",
    "    \n",
    "    \n",
    "\n",
    "plt.subplot(2,2,2)\n",
    "sns.countplot(non_defaulters['NAME_CONTRACT_TYPE'])\n",
    "plt.title('NAME_CONTRACT_TYPE(For non_defaulters)')\n",
    "plt.ylabel('number of people')\n",
    "plt.xticks(rotation=90)"
   ]
  },
  {
   "cell_type": "markdown",
   "id": "ee295cb4",
   "metadata": {},
   "source": [
    "**OBSERVATIONS**\n",
    "* The people who are defaulters: more people have applied for cash loans than revolving loans\n",
    "* The people who are non-defaulters: more people have applied for cash loans than revolving loans"
   ]
  },
  {
   "cell_type": "markdown",
   "id": "1836edc9",
   "metadata": {},
   "source": [
    "**CODE_GENDER**"
   ]
  },
  {
   "cell_type": "code",
   "execution_count": null,
   "id": "96f822ef",
   "metadata": {},
   "outputs": [],
   "source": [
    "plt.figure(figsize=(12,10))\n",
    "plt.subplot(2,2,1)\n",
    "sns.countplot(defaulters['CODE_GENDER'])    \n",
    "plt.title('CODE_GENDER')\n",
    "plt.ylabel('number of people')\n",
    "plt.xticks(rotation=90)\n",
    "    \n",
    "    \n",
    "\n",
    "plt.subplot(2,2,2)\n",
    "sns.countplot(non_defaulters['CODE_GENDER'])\n",
    "plt.title('CODE_GENDER(For non_defaulters)')\n",
    "plt.ylabel('number of people')\n",
    "plt.xticks(rotation=90)"
   ]
  },
  {
   "cell_type": "markdown",
   "id": "c274caeb",
   "metadata": {},
   "source": [
    "**OBSERVATION**\n",
    "* The people who are defaulters: there are more female than male\n",
    "* The people who are non-defaulters: there are more female than male"
   ]
  },
  {
   "cell_type": "markdown",
   "id": "ff19ca4a",
   "metadata": {},
   "source": [
    "**FLAG_OWN_CAR**"
   ]
  },
  {
   "cell_type": "code",
   "execution_count": null,
   "id": "1e60dc4c",
   "metadata": {},
   "outputs": [],
   "source": [
    "plt.figure(figsize=(12,10))\n",
    "plt.subplot(2,2,1)\n",
    "sns.countplot(defaulters['FLAG_OWN_CAR'])    \n",
    "plt.title('FLAG_OWN_CAR')\n",
    "plt.ylabel('number of people')\n",
    "plt.xticks(rotation=90)\n",
    "    \n",
    "    \n",
    "\n",
    "plt.subplot(2,2,2)\n",
    "sns.countplot(non_defaulters['FLAG_OWN_CAR'])\n",
    "plt.title('FLAG_OWN_CAR(For non_defaulters)')\n",
    "plt.ylabel('number of people')\n",
    "plt.xticks(rotation=90)"
   ]
  },
  {
   "cell_type": "markdown",
   "id": "0e577c0e",
   "metadata": {},
   "source": [
    "**OBSERVATIONS**\n",
    "* The people who are defaulters: There are more people who donot have a car than people having car\n",
    "* The people who are non-defaulters: There are more people who donot have a car than people having car\n",
    "\n"
   ]
  },
  {
   "cell_type": "markdown",
   "id": "9f1842e4",
   "metadata": {},
   "source": [
    "**FLAG_OWN_REALTY**"
   ]
  },
  {
   "cell_type": "code",
   "execution_count": null,
   "id": "d00be6b5",
   "metadata": {},
   "outputs": [],
   "source": [
    "plt.figure(figsize=(12,10))\n",
    "plt.subplot(2,2,1)\n",
    "sns.countplot(defaulters['FLAG_OWN_REALTY'])    \n",
    "plt.title('FLAG_OWN_REALTY')\n",
    "plt.ylabel('number of people')\n",
    "plt.xticks(rotation=90)\n",
    "    \n",
    "    \n",
    "\n",
    "plt.subplot(2,2,2)\n",
    "sns.countplot(non_defaulters['FLAG_OWN_REALTY'])\n",
    "plt.title('FLAG_OWN_REALTY(For non_defaulters)')\n",
    "plt.ylabel('number of people')\n",
    "plt.xticks(rotation=90)"
   ]
  },
  {
   "cell_type": "markdown",
   "id": "172a7861",
   "metadata": {},
   "source": [
    "**OBSERVATIONS**\n",
    "* The people who are defaulters: There are more people who have realty than people who donot have realty.\n",
    "* The people who are non defaulters: There are more people who have realty than people who donot have realty.\n",
    "\n"
   ]
  },
  {
   "cell_type": "markdown",
   "id": "bb6b64c1",
   "metadata": {},
   "source": [
    "**NAME_INCOME_TYPE**"
   ]
  },
  {
   "cell_type": "code",
   "execution_count": null,
   "id": "99231998",
   "metadata": {},
   "outputs": [],
   "source": [
    "plt.figure(figsize=(12,10))\n",
    "plt.subplot(2,2,1)\n",
    "sns.countplot(defaulters['NAME_INCOME_TYPE'])    \n",
    "plt.title('NAME_INCOME_TYPE')\n",
    "plt.ylabel('number of people')\n",
    "plt.xticks(rotation=90)\n",
    "    \n",
    "    \n",
    "\n",
    "plt.subplot(2,2,2)\n",
    "sns.countplot(non_defaulters['NAME_INCOME_TYPE'])\n",
    "plt.title('NAME_INCOME_TYPE(For non_defaulters)')\n",
    "plt.ylabel('number of people')\n",
    "plt.xticks(rotation=90)"
   ]
  },
  {
   "cell_type": "markdown",
   "id": "b63b7f3e",
   "metadata": {},
   "source": [
    "**OBSERVATIONS**\n",
    "* The people who are defaulters: There are more people who are working followed by people who are commercial associates.\n",
    "* The people who are non defaulters: There are more people who are working followed by people who are commercial associates.\n",
    "\n"
   ]
  },
  {
   "cell_type": "markdown",
   "id": "b51b26d1",
   "metadata": {},
   "source": [
    "**NAME_EDUCATION_TYPE**"
   ]
  },
  {
   "cell_type": "code",
   "execution_count": null,
   "id": "1fed4eee",
   "metadata": {},
   "outputs": [],
   "source": [
    "plt.figure(figsize=(12,10))\n",
    "plt.subplot(2,2,1)\n",
    "sns.countplot(defaulters['NAME_EDUCATION_TYPE'])    \n",
    "plt.title('NAME_EDUCATION_TYPE')\n",
    "plt.ylabel('number of people')\n",
    "plt.xticks(rotation=90)\n",
    "    \n",
    "    \n",
    "\n",
    "plt.subplot(2,2,2)\n",
    "sns.countplot(non_defaulters['NAME_EDUCATION_TYPE'])\n",
    "plt.title('NAME_EDUCATION_TYPE(For non_defaulters)')\n",
    "plt.ylabel('number of people')\n",
    "plt.xticks(rotation=90)"
   ]
  },
  {
   "cell_type": "markdown",
   "id": "f2e7e9b2",
   "metadata": {},
   "source": [
    "**OBSERVATIONS**\n",
    "* The people who are defaulters: Majority of the people have Secondary/secondary specail education.\n",
    "* The people who are non defaulters: Majority of the people have Secondary/secondary specail education.\n",
    "\n"
   ]
  },
  {
   "cell_type": "markdown",
   "id": "2283ce6b",
   "metadata": {},
   "source": [
    "**NAME_FAMILY_STATUS**"
   ]
  },
  {
   "cell_type": "code",
   "execution_count": null,
   "id": "3778361f",
   "metadata": {},
   "outputs": [],
   "source": [
    "plt.figure(figsize=(12,10))\n",
    "plt.subplot(2,2,1)\n",
    "sns.countplot(defaulters['NAME_FAMILY_STATUS'])    \n",
    "plt.title('NAME_FAMILY_STATUS')\n",
    "plt.ylabel('number of people')\n",
    "plt.xticks(rotation=90)\n",
    "    \n",
    "    \n",
    "\n",
    "plt.subplot(2,2,2)\n",
    "sns.countplot(non_defaulters['NAME_FAMILY_STATUS'])\n",
    "plt.title('NAME_FAMILY_STATUS(For non_defaulters)')\n",
    "plt.ylabel('number of people')\n",
    "plt.xticks(rotation=90)"
   ]
  },
  {
   "cell_type": "markdown",
   "id": "f2a0fff0",
   "metadata": {},
   "source": [
    "**OBSERVATIONS**\n",
    "* The people who are defaulters: Majority of the people are married.\n",
    "* The people who are non defaulters: Majority of the people are married\n"
   ]
  },
  {
   "cell_type": "markdown",
   "id": "cdc18329",
   "metadata": {},
   "source": [
    "**NAME_HOUSING_TYPE**"
   ]
  },
  {
   "cell_type": "code",
   "execution_count": null,
   "id": "dc7d2f80",
   "metadata": {},
   "outputs": [],
   "source": [
    "plt.figure(figsize=(12,10))\n",
    "plt.subplot(2,2,1)\n",
    "sns.countplot(defaulters['NAME_HOUSING_TYPE'])    \n",
    "plt.title('NAME_HOUSING_TYPE(FOR DEFAULTERS)')\n",
    "plt.ylabel('number of people')\n",
    "plt.xticks(rotation=90)\n",
    "    \n",
    "    \n",
    "\n",
    "plt.subplot(2,2,2)\n",
    "sns.countplot(non_defaulters['NAME_HOUSING_TYPE'])\n",
    "plt.title('NAME_HOUSING_TYPE(For non_defaulters)')\n",
    "plt.ylabel('number of people')\n",
    "plt.xticks(rotation=90)"
   ]
  },
  {
   "cell_type": "markdown",
   "id": "d31caeb8",
   "metadata": {},
   "source": [
    "**OBSERVATIONS**\n",
    "* The people who are defaulters: Majority of the people live in house/appartment\n",
    "* The people who are non-defaulters: Majority of the people live in house/appartment\n"
   ]
  },
  {
   "cell_type": "markdown",
   "id": "74e21b18",
   "metadata": {},
   "source": [
    "**OCCUPATION_TYPE**"
   ]
  },
  {
   "cell_type": "code",
   "execution_count": null,
   "id": "a0b65e3c",
   "metadata": {},
   "outputs": [],
   "source": [
    "plt.figure(figsize=(12,10))\n",
    "plt.subplot(2,2,1)\n",
    "sns.countplot(defaulters['OCCUPATION_TYPE'])    \n",
    "plt.title('OCCUPATION_TYPE')\n",
    "plt.ylabel('number of people')\n",
    "plt.xticks(rotation=90)\n",
    "    \n",
    "    \n",
    "\n",
    "plt.subplot(2,2,2)\n",
    "sns.countplot(non_defaulters['OCCUPATION_TYPE'])\n",
    "plt.title('OCCUPATION_TYPE(For non_defaulters)')\n",
    "plt.ylabel('number of people')\n",
    "plt.xticks(rotation=90);"
   ]
  },
  {
   "cell_type": "markdown",
   "id": "04abc385",
   "metadata": {},
   "source": [
    "**Plotting count plots for defauters and non-defaulters for every numerical column column**"
   ]
  },
  {
   "cell_type": "code",
   "execution_count": null,
   "id": "324f3b0f",
   "metadata": {},
   "outputs": [],
   "source": [
    "numerical_cols=defaulters.dtypes[defaulters.dtypes!='object'].index\n",
    "numerical_cols"
   ]
  },
  {
   "cell_type": "markdown",
   "id": "a3768c85",
   "metadata": {},
   "source": [
    "**CNT_CHILDREN**"
   ]
  },
  {
   "cell_type": "code",
   "execution_count": null,
   "id": "5c9bb85f",
   "metadata": {},
   "outputs": [],
   "source": [
    "plt.figure(figsize=(15,10))\n",
    "plt.subplot(2,2,1)\n",
    "sns.histplot(defaulters['CNT_CHILDREN'])    \n",
    "plt.title('CNT_CHILDREN (DEFAULTERS)')\n",
    "plt.xticks(rotation=90);\n",
    "\n",
    "plt.subplot(2,2,2)\n",
    "sns.histplot(non_defaulters['CNT_CHILDREN'])\n",
    "plt.title('CNT_CHILDREN(NON-DEFAULTERS)')\n",
    "plt.ylabel('frequency')\n",
    "plt.xticks(rotation=90);"
   ]
  },
  {
   "cell_type": "markdown",
   "id": "251fa935",
   "metadata": {},
   "source": [
    "**OBSERVATIONS**\\\n",
    "*for defaulters:We see that most of the people who are defaulters have no children and very few people have more than 5 children.*\\\n",
    "*for non defaulters:We see that most of the people who are non defaulters have no children and very few people have more than 4 children.*"
   ]
  },
  {
   "cell_type": "markdown",
   "id": "8d29b5cc",
   "metadata": {},
   "source": [
    "**AMT_INCOME_TOTAL**"
   ]
  },
  {
   "cell_type": "markdown",
   "id": "6e232042",
   "metadata": {},
   "source": [
    "Binning income column of both defaulters and non defaulters dataframe into low,medium,high, very high groups."
   ]
  },
  {
   "cell_type": "code",
   "execution_count": null,
   "id": "68ac5099",
   "metadata": {},
   "outputs": [],
   "source": [
    "appl_data['AMT_INCOME_TOTAL'].describe()"
   ]
  },
  {
   "cell_type": "code",
   "execution_count": null,
   "id": "e89e5531",
   "metadata": {},
   "outputs": [],
   "source": [
    "def amt_income(x):\n",
    "    if x<=100000:\n",
    "        return \"low\"\n",
    "    elif x>100000 and x<=150000:\n",
    "        return \"medium\"\n",
    "    elif x>150000 and x<=200000:\n",
    "        return \"high\"\n",
    "    else:\n",
    "        return \"very high\"\n"
   ]
  },
  {
   "cell_type": "code",
   "execution_count": null,
   "id": "a6b4c415",
   "metadata": {},
   "outputs": [],
   "source": [
    "non_defaulters['INCOME']=non_defaulters['AMT_INCOME_TOTAL'].apply(amt_income)"
   ]
  },
  {
   "cell_type": "code",
   "execution_count": null,
   "id": "6202477c",
   "metadata": {},
   "outputs": [],
   "source": [
    "defaulters['INCOME']=defaulters['AMT_INCOME_TOTAL'].apply(amt_income)"
   ]
  },
  {
   "cell_type": "code",
   "execution_count": null,
   "id": "8b1c8b01",
   "metadata": {},
   "outputs": [],
   "source": [
    "plt.figure(figsize=(21,15))\n",
    "plt.subplot(2,2,1)\n",
    "sns.countplot(non_defaulters['INCOME'],hue=non_defaulters['CODE_GENDER'])    \n",
    "plt.title('DISTRIBUTION OF GENDER WITH RESPECT TO INCOME (non-DEFAULTERS)')\n",
    "\n",
    "\n",
    "plt.subplot(2,2,2)\n",
    "sns.countplot(defaulters['INCOME'],hue=defaulters['CODE_GENDER'])\n",
    "plt.title('DISTRIBUTION OF GENDER WITH RESPECT TO INCOME (DEFAULTERS)');\n"
   ]
  },
  {
   "cell_type": "markdown",
   "id": "032a8280",
   "metadata": {},
   "source": [
    "**OBSERVATIONS**\n",
    "* we see there are applicants who have high income and who are defaulters.\n",
    "* also we see there are people who have low income and are non defaulters."
   ]
  },
  {
   "cell_type": "markdown",
   "id": "1dcd25a6",
   "metadata": {},
   "source": [
    "**OBSERVATIONS**"
   ]
  },
  {
   "cell_type": "markdown",
   "id": "4a78dda3",
   "metadata": {},
   "source": [
    "**AMT_CREDIT**"
   ]
  },
  {
   "cell_type": "code",
   "execution_count": null,
   "id": "548125e5",
   "metadata": {},
   "outputs": [],
   "source": [
    "plt.figure(figsize=(15,10))\n",
    "plt.subplot(2,2,1)\n",
    "sns.histplot(defaulters['AMT_CREDIT'])    \n",
    "plt.title('AMT_CREDIT(DEFAULTERS)')\n",
    "plt.xticks(rotation=90);\n",
    "\n",
    "plt.subplot(2,2,2)\n",
    "sns.histplot(non_defaulters['AMT_CREDIT'])\n",
    "plt.title('AMT_CREDIT(NON-DEFAULTERS)')\n",
    "plt.xticks(rotation=90);"
   ]
  },
  {
   "cell_type": "markdown",
   "id": "7e26ce96",
   "metadata": {},
   "source": [
    "**OBSERVATIONS**\n",
    "* Both the plots we see the distribution is skewed towards the left"
   ]
  },
  {
   "cell_type": "markdown",
   "id": "9dc6edaa",
   "metadata": {},
   "source": [
    "Binning amount credit  column into low,medium,high , very high groups"
   ]
  },
  {
   "cell_type": "code",
   "execution_count": null,
   "id": "d85ddf92",
   "metadata": {},
   "outputs": [],
   "source": [
    "appl_data['AMT_CREDIT'].describe()"
   ]
  },
  {
   "cell_type": "code",
   "execution_count": null,
   "id": "bb9e7d13",
   "metadata": {},
   "outputs": [],
   "source": [
    "def amt_credit(x):\n",
    "    if x<=270000:\n",
    "        return \"low\"\n",
    "    elif x>270000 and x<=500000:\n",
    "        return \"medium\"\n",
    "    elif x>500000 and x<=800000:\n",
    "        return \"high\"\n",
    "    else:\n",
    "        return \"very high\""
   ]
  },
  {
   "cell_type": "code",
   "execution_count": null,
   "id": "73bdd93e",
   "metadata": {},
   "outputs": [],
   "source": [
    "non_defaulters['CREDIT']=non_defaulters['AMT_CREDIT'].apply(amt_credit)"
   ]
  },
  {
   "cell_type": "code",
   "execution_count": null,
   "id": "d970f4de",
   "metadata": {},
   "outputs": [],
   "source": [
    "defaulters['CREDIT']=defaulters['AMT_CREDIT'].apply(amt_credit)"
   ]
  },
  {
   "cell_type": "code",
   "execution_count": null,
   "id": "a8d3a19b",
   "metadata": {},
   "outputs": [],
   "source": [
    "plt.figure(figsize=(10,10))\n",
    "plt.subplot(2,2,1)\n",
    "sns.countplot(non_defaulters['CREDIT'],hue=non_defaulters['CODE_GENDER'])    \n",
    "plt.title('AMT_CREDIT (non-DEFAULTERS)')\n",
    "plt.xticks(rotation=90)\n",
    "plt.legend(loc='upper right')\n",
    "\n",
    "plt.subplot(2,2,2)\n",
    "sns.countplot(defaulters['CREDIT'],hue=defaulters['CODE_GENDER'])\n",
    "plt.title('AMT_CREDIT (DEFAULTERS)')\n",
    "plt.xticks(rotation=90)\n",
    "plt.legend(loc='upper right');"
   ]
  },
  {
   "cell_type": "markdown",
   "id": "642027c6",
   "metadata": {},
   "source": [
    "**OBSERVATIONS**\n",
    "* There are majority of people whose amount credit is low for who are non defaulters\n",
    "* There are signifiacntly less number of people with high credit value in both defauters and non-defaulters category"
   ]
  },
  {
   "cell_type": "markdown",
   "id": "ae8b6039",
   "metadata": {},
   "source": [
    "**AMT_ANNUITY**"
   ]
  },
  {
   "cell_type": "code",
   "execution_count": null,
   "id": "61e08505",
   "metadata": {},
   "outputs": [],
   "source": [
    "plt.figure(figsize=(15,10))\n",
    "plt.subplot(2,2,1)\n",
    "sns.histplot(defaulters['AMT_ANNUITY'])    \n",
    "plt.title('AMT_ANNUITY(DEFAULTERS)')\n",
    "plt.xticks(rotation=90);\n",
    "\n",
    "plt.subplot(2,2,2)\n",
    "sns.histplot(non_defaulters['AMT_ANNUITY'])\n",
    "plt.title('AMT_ANNUITY(NON-DEFAULTERS)')\n",
    "plt.xticks(rotation=90);"
   ]
  },
  {
   "cell_type": "markdown",
   "id": "6883587c",
   "metadata": {},
   "source": [
    "**OBSERVATIONS**\\\n",
    "In both the plots the distribution is left skewed. "
   ]
  },
  {
   "cell_type": "markdown",
   "id": "25654319",
   "metadata": {},
   "source": [
    "**AMT_GOODS_PRICE**"
   ]
  },
  {
   "cell_type": "code",
   "execution_count": null,
   "id": "18533c12",
   "metadata": {},
   "outputs": [],
   "source": [
    "plt.figure(figsize=(15,10))\n",
    "plt.subplot(2,2,1)\n",
    "sns.histplot(defaulters['AMT_GOODS_PRICE'])    \n",
    "plt.title('AMT_GOODS_PRICE(DEFAULTERS)')\n",
    "plt.xticks(rotation=90);\n",
    "\n",
    "plt.subplot(2,2,2)\n",
    "sns.histplot(non_defaulters['AMT_GOODS_PRICE'])\n",
    "plt.title('AMT_GOODS_PRICE(NON-DEFAULTERS)')\n",
    "plt.xticks(rotation=90);"
   ]
  },
  {
   "cell_type": "markdown",
   "id": "25dc643d",
   "metadata": {},
   "source": [
    "**OBSERVATIONS**\n",
    "* In both the plots the distribution is left skewed."
   ]
  },
  {
   "cell_type": "code",
   "execution_count": null,
   "id": "27ec7a7c",
   "metadata": {},
   "outputs": [],
   "source": []
  },
  {
   "cell_type": "markdown",
   "id": "1df84f71",
   "metadata": {},
   "source": [
    "**CNT_FAM_MEMBERS**"
   ]
  },
  {
   "cell_type": "code",
   "execution_count": null,
   "id": "cf3e3d99",
   "metadata": {},
   "outputs": [],
   "source": [
    "plt.figure(figsize=(15,10))\n",
    "plt.subplot(2,2,1)\n",
    "sns.histplot(defaulters['CNT_FAM_MEMBERS'])    \n",
    "plt.title('CNT_FAM_MEMBERS(DEFAULTERS)')\n",
    "plt.xticks(rotation=90);\n",
    "\n",
    "plt.subplot(2,2,2)\n",
    "sns.histplot(non_defaulters['CNT_FAM_MEMBERS'])\n",
    "plt.title('CNT_FAM_MEMBERS(NON-DEFAULTERS)')\n",
    "plt.xticks(rotation=90);"
   ]
  },
  {
   "cell_type": "markdown",
   "id": "575e0572",
   "metadata": {},
   "source": [
    "**OBSERVATIONS**\n",
    "* In both the plots we very similar distribution.\n",
    "* Majority of the people who are defauters have 2 members in their family.\n",
    "* Majority of the people who are non defauters have 2 members in their family.\n"
   ]
  },
  {
   "cell_type": "markdown",
   "id": "7c3728eb",
   "metadata": {},
   "source": [
    "**AGE**"
   ]
  },
  {
   "cell_type": "code",
   "execution_count": null,
   "id": "c2f07681",
   "metadata": {},
   "outputs": [],
   "source": [
    "plt.figure(figsize=(15,10))\n",
    "plt.subplot(2,2,1)\n",
    "sns.histplot(defaulters['AGE'])    \n",
    "plt.title('AGE (DEFAULTERS)')\n",
    "plt.xticks(rotation=90);\n",
    "\n",
    "plt.subplot(2,2,2)\n",
    "sns.histplot(non_defaulters['AGE'])\n",
    "plt.title('AGE (NON-DEFAULTERS)')\n",
    "plt.xticks(rotation=90);"
   ]
  },
  {
   "cell_type": "markdown",
   "id": "d786adf9",
   "metadata": {},
   "source": [
    "**OBSERVATIONS**\n",
    "* IN the defaulters plot, we see there is a decline in the number of applicants as the age increases.\n"
   ]
  },
  {
   "cell_type": "markdown",
   "id": "f99dc86d",
   "metadata": {},
   "source": [
    "**YEARS_EMPLOYED**\n"
   ]
  },
  {
   "cell_type": "code",
   "execution_count": null,
   "id": "f28ba455",
   "metadata": {},
   "outputs": [],
   "source": [
    "plt.figure(figsize=(15,10))\n",
    "plt.subplot(2,2,1)\n",
    "sns.histplot(defaulters['YEARS_EMPLOYED'])    \n",
    "plt.title('YEARS_EMPLOYED (DEFAULTERS)')\n",
    "plt.xticks(rotation=90);\n",
    "\n",
    "plt.subplot(2,2,2)\n",
    "sns.histplot(non_defaulters['YEARS_EMPLOYED'])\n",
    "plt.title('YEARS_EMPLOYED(NON-DEFAULTERS)')\n",
    "plt.xticks(rotation=90);"
   ]
  },
  {
   "cell_type": "markdown",
   "id": "6da51f04",
   "metadata": {},
   "source": [
    "**OBSERVATION**\n",
    "We cannot conclude anything from the above plots. Its because the YEARS_EMPLOYED column has outliers"
   ]
  },
  {
   "cell_type": "code",
   "execution_count": null,
   "id": "ef1db0db",
   "metadata": {},
   "outputs": [],
   "source": [
    "x=np.percentile(defaulters['YEARS_EMPLOYED'],99)\n",
    "new1=defaulters[defaulters['YEARS_EMPLOYED']<x]['YEARS_EMPLOYED']\n",
    "new2=non_defaulters[non_defaulters['YEARS_EMPLOYED']<x]['YEARS_EMPLOYED']"
   ]
  },
  {
   "cell_type": "markdown",
   "id": "46b017af",
   "metadata": {},
   "source": [
    "* DESCRIPTION OF THE ABOVE CODE\n",
    "    * CREATED TWO NEW SERIES FROM THE DEFAULTERS AND NON DEFAULTERS DATAFRAME REMOVING THE OUTLIERS\n",
    "*NOW PLOTTING HISTOGRAM OF THE NEW SERIES    "
   ]
  },
  {
   "cell_type": "code",
   "execution_count": null,
   "id": "a27d5a2e",
   "metadata": {},
   "outputs": [],
   "source": [
    "plt.figure(figsize=(15,10))\n",
    "plt.subplot(2,2,1)\n",
    "sns.histplot(new1)    \n",
    "plt.title('YEARS_EMPLOYED (DEFAULTERS)')\n",
    "plt.xticks(rotation=90);\n",
    "\n",
    "plt.subplot(2,2,2)\n",
    "sns.histplot(new2)\n",
    "plt.title('YEARS_EMPLOYED(NON-DEFAULTERS)')\n",
    "plt.xticks(rotation=90);"
   ]
  },
  {
   "cell_type": "markdown",
   "id": "cb8f394e",
   "metadata": {},
   "source": [
    "**PLOTTING HEATMAP FOR NUMERICAL COLUMNS IN THE defaulters columns**"
   ]
  },
  {
   "cell_type": "code",
   "execution_count": null,
   "id": "a9407870",
   "metadata": {},
   "outputs": [],
   "source": [
    "plt.figure(figsize=(25,25))\n",
    "sns.heatmap(defaulters[numerical_cols].corr(),square=False,cmap='RdYlGn',annot=True)"
   ]
  },
  {
   "cell_type": "markdown",
   "id": "fb930c07",
   "metadata": {},
   "source": [
    "PLOTTING HEATMAP FOR NUMERICAL COLUMNS IN THE non_defaulters columns"
   ]
  },
  {
   "cell_type": "code",
   "execution_count": null,
   "id": "631defac",
   "metadata": {},
   "outputs": [],
   "source": [
    "plt.figure(figsize=(25,25))\n",
    "\n",
    "sns.heatmap(non_defaulters[numerical_cols].corr(),cmap='RdYlGn',annot=True)"
   ]
  },
  {
   "cell_type": "markdown",
   "id": "fac4faf0",
   "metadata": {},
   "source": [
    "# PREVIOUS APPLICATION DATASET"
   ]
  },
  {
   "cell_type": "code",
   "execution_count": null,
   "id": "b045ee2c",
   "metadata": {},
   "outputs": [],
   "source": [
    "# PREVIOUS APPLICATION DATA SET"
   ]
  },
  {
   "cell_type": "code",
   "execution_count": null,
   "id": "63202622",
   "metadata": {},
   "outputs": [],
   "source": [
    "prev_appl=pd.read_csv('previous_application.csv')\n"
   ]
  },
  {
   "cell_type": "code",
   "execution_count": null,
   "id": "b966aff4",
   "metadata": {},
   "outputs": [],
   "source": [
    "prev_appl.head()\n"
   ]
  },
  {
   "cell_type": "code",
   "execution_count": null,
   "id": "f7ddcd90",
   "metadata": {},
   "outputs": [],
   "source": [
    "prev_appl.dtypes"
   ]
  },
  {
   "cell_type": "code",
   "execution_count": null,
   "id": "fbb9a2a0",
   "metadata": {},
   "outputs": [],
   "source": [
    "prev_appl.shape\n"
   ]
  },
  {
   "cell_type": "code",
   "execution_count": null,
   "id": "aaf1ffe9",
   "metadata": {},
   "outputs": [],
   "source": [
    "prev_appl.describe()"
   ]
  },
  {
   "cell_type": "code",
   "execution_count": null,
   "id": "a7c5482f",
   "metadata": {},
   "outputs": [],
   "source": [
    "prev_appl.info()"
   ]
  },
  {
   "cell_type": "markdown",
   "id": "216b106d",
   "metadata": {},
   "source": [
    "# Handling missing values in previous application column"
   ]
  },
  {
   "cell_type": "code",
   "execution_count": null,
   "id": "cdd624ff",
   "metadata": {
    "scrolled": true
   },
   "outputs": [],
   "source": [
    "cols_to_drop=(prev_appl.isnull().mean()*100)[(prev_appl.isnull().mean()*100)>40]\n",
    "cols_to_drop  # columns with more than 40% missing values"
   ]
  },
  {
   "cell_type": "code",
   "execution_count": null,
   "id": "9640db88",
   "metadata": {},
   "outputs": [],
   "source": [
    "#dropping columns with more than 40% missing values"
   ]
  },
  {
   "cell_type": "code",
   "execution_count": null,
   "id": "4674365f",
   "metadata": {},
   "outputs": [],
   "source": [
    "prev_appl.drop(cols_to_drop.index,axis=1,inplace=True)"
   ]
  },
  {
   "cell_type": "code",
   "execution_count": null,
   "id": "d743732f",
   "metadata": {},
   "outputs": [],
   "source": [
    "#checking null values in columns\n",
    "(prev_appl.isnull().sum())[prev_appl.isnull().sum()>0]"
   ]
  },
  {
   "cell_type": "markdown",
   "id": "9d4702ad",
   "metadata": {},
   "source": [
    "WEEKDAY_APPR_PROCESS_START: On which day of the week did the client apply for previous application\n",
    "HOUR_APPR_PROCESS_START: Approximately at what day hour did the client apply for the previous application"
   ]
  },
  {
   "cell_type": "markdown",
   "id": "2e9a6d25",
   "metadata": {},
   "source": [
    "WEEKDAY_APPR_PROCESS_START,HOUR_APPR_PROCESS_START : these two columns seem irrelevant for out analysis"
   ]
  },
  {
   "cell_type": "code",
   "execution_count": null,
   "id": "8f02ecbe",
   "metadata": {},
   "outputs": [],
   "source": [
    "prev_appl.drop(['WEEKDAY_APPR_PROCESS_START','HOUR_APPR_PROCESS_START'],axis=1,inplace=True)"
   ]
  },
  {
   "cell_type": "code",
   "execution_count": null,
   "id": "334fc3ed",
   "metadata": {},
   "outputs": [],
   "source": [
    "prev_appl['PRODUCT_COMBINATION'].describe()"
   ]
  },
  {
   "cell_type": "code",
   "execution_count": null,
   "id": "60c556d1",
   "metadata": {},
   "outputs": [],
   "source": [
    "# AMT_CREDIT and PRODUCT_COMBINATION columns have less than 1%\n",
    "# filling the AMT_CREDIT column with median \n",
    "# PRODUCT_COMBINATION is a categorical column, filing the PRODUCT_COMBINATION column with mode\n",
    "prev_appl['AMT_CREDIT'].fillna(prev_appl['AMT_CREDIT'].median(),inplace=True)\n",
    "prev_appl['PRODUCT_COMBINATION'].fillna(prev_appl['PRODUCT_COMBINATION'].mode()[0],inplace=True)"
   ]
  },
  {
   "cell_type": "code",
   "execution_count": null,
   "id": "8d341706",
   "metadata": {},
   "outputs": [],
   "source": [
    "prev_appl['AMT_ANNUITY'].describe()\n"
   ]
  },
  {
   "cell_type": "code",
   "execution_count": null,
   "id": "c9aa2065",
   "metadata": {},
   "outputs": [],
   "source": [
    "# filling null values AMT_ANNUITY with median\n",
    "prev_appl['AMT_ANNUITY'].fillna(prev_appl['AMT_ANNUITY'].median(),inplace=True)"
   ]
  },
  {
   "cell_type": "code",
   "execution_count": null,
   "id": "47b6ff08",
   "metadata": {},
   "outputs": [],
   "source": [
    "prev_appl['AMT_GOODS_PRICE'].describe()\n"
   ]
  },
  {
   "cell_type": "code",
   "execution_count": null,
   "id": "bb1a1f31",
   "metadata": {},
   "outputs": [],
   "source": [
    "# filling null values of AMT_GOODS_PRICE with median\n",
    "prev_appl['AMT_GOODS_PRICE'].fillna(prev_appl['AMT_GOODS_PRICE'].median(),inplace=True)"
   ]
  },
  {
   "cell_type": "code",
   "execution_count": null,
   "id": "30f8ab69",
   "metadata": {},
   "outputs": [],
   "source": [
    "prev_appl['CNT_PAYMENT'].describe()\n"
   ]
  },
  {
   "cell_type": "code",
   "execution_count": null,
   "id": "e6120446",
   "metadata": {},
   "outputs": [],
   "source": [
    "# filling null values of CNT_PAYMENT with median\n",
    "prev_appl['CNT_PAYMENT'].fillna(prev_appl['CNT_PAYMENT'].median(),inplace=True)"
   ]
  },
  {
   "cell_type": "markdown",
   "id": "d764e71e",
   "metadata": {},
   "source": [
    "fixing rows and columns"
   ]
  },
  {
   "cell_type": "code",
   "execution_count": null,
   "id": "f7ebcde8",
   "metadata": {},
   "outputs": [],
   "source": [
    "#coverting the negative entries in 'DAYS_DECISION' to possitive and converting days to year\n",
    "prev_appl['Years_DECISION']=prev_appl['DAYS_DECISION'].apply(lambda x:abs(x)/365)"
   ]
  },
  {
   "cell_type": "code",
   "execution_count": null,
   "id": "4c051815",
   "metadata": {},
   "outputs": [],
   "source": [
    "# we have made a new column Years_DECISION containing the entries of DAYS_DECISION in years. so we can drop DAYS_DECISION column\n",
    "prev_appl.drop('DAYS_DECISION',axis=1, inplace=True)"
   ]
  },
  {
   "cell_type": "markdown",
   "id": "c68040c3",
   "metadata": {},
   "source": [
    "# merging the application and previous application data frames on SK_ID_CURR"
   ]
  },
  {
   "cell_type": "code",
   "execution_count": null,
   "id": "7b2b2b1b",
   "metadata": {},
   "outputs": [],
   "source": [
    "combined_data=appl_data.merge(prev_appl,how='inner',on='SK_ID_CURR')\n",
    "# combined_data contains all the rows of prev_appl  which are common in appl_data with respect to the column SK_ID_CURR"
   ]
  },
  {
   "cell_type": "code",
   "execution_count": null,
   "id": "23e17a6e",
   "metadata": {},
   "outputs": [],
   "source": [
    "combined_data.shape"
   ]
  },
  {
   "cell_type": "code",
   "execution_count": null,
   "id": "d9262361",
   "metadata": {},
   "outputs": [],
   "source": [
    "combined_data['NAME_CONTRACT_STATUS'].value_counts()"
   ]
  },
  {
   "cell_type": "code",
   "execution_count": null,
   "id": "a318b285",
   "metadata": {},
   "outputs": [],
   "source": [
    "# dividing the target column into 4 parts based on the status of loan"
   ]
  },
  {
   "cell_type": "code",
   "execution_count": null,
   "id": "4a2b2077",
   "metadata": {},
   "outputs": [],
   "source": [
    "Approved=combined_data[combined_data['NAME_CONTRACT_STATUS']=='Approved']\n",
    "Refused=combined_data[combined_data['NAME_CONTRACT_STATUS']=='Refused']\n",
    "Canceled=combined_data[combined_data['NAME_CONTRACT_STATUS']=='Canceled']\n",
    "Unused_offer=combined_data[combined_data['NAME_CONTRACT_STATUS']=='Unused offer']"
   ]
  },
  {
   "cell_type": "code",
   "execution_count": null,
   "id": "91353fba",
   "metadata": {},
   "outputs": [],
   "source": [
    "Approved.shape"
   ]
  },
  {
   "cell_type": "code",
   "execution_count": null,
   "id": "a31b8362",
   "metadata": {},
   "outputs": [],
   "source": [
    "Refused.shape"
   ]
  },
  {
   "cell_type": "code",
   "execution_count": null,
   "id": "45504296",
   "metadata": {},
   "outputs": [],
   "source": [
    "Canceled.shape"
   ]
  },
  {
   "cell_type": "code",
   "execution_count": null,
   "id": "5a028ea3",
   "metadata": {},
   "outputs": [],
   "source": [
    "Unused_offer.shape"
   ]
  },
  {
   "cell_type": "code",
   "execution_count": null,
   "id": "6d055601",
   "metadata": {},
   "outputs": [],
   "source": [
    "# Four Countplots showing distribution of Gender across the four dataframes:Approved,Refused,Canceled ,Unused_offer\n",
    "fig,((ax1,ax2),(ax3,ax4))=plt.subplots(nrows=2,ncols=2, figsize=(10,10),sharey=True)\n",
    "Ax1=sns.countplot(ax=ax1,x=Approved['CODE_GENDER'])\n",
    "ax1.set_title('approved loan based on male/female/others')\n",
    "ax1.set_ylabel('count of people')\n",
    "\n",
    "Ax2=sns.countplot(ax=ax2,x=Refused['CODE_GENDER'])\n",
    "ax2.set_title('Refused loan based on male/female/others')\n",
    "ax2.set_ylabel('count of people')\n",
    "\n",
    "Ax3=sns.countplot(ax=ax3,x=Canceled['CODE_GENDER'])\n",
    "ax3.set_title('Canceled loan based on male/female/others')\n",
    "ax3.set_ylabel('count of people')\n",
    "\n",
    "Ax4=sns.countplot(ax=ax4,x=Unused_offer['CODE_GENDER'])\n",
    "ax4.set_title('Unused_offer loan based on male/female/others')\n",
    "ax4.set_ylabel('count of people')"
   ]
  },
  {
   "cell_type": "markdown",
   "id": "cd8c662f",
   "metadata": {},
   "source": [
    "**OBSERVATIONS**\n",
    "* we see there are more female applicant than male in all the contract status of the loan."
   ]
  },
  {
   "cell_type": "code",
   "execution_count": null,
   "id": "7cee762d",
   "metadata": {},
   "outputs": [],
   "source": [
    "# Four Countplots showing distribution of cash loans and revolving loans across the four dataframes:Approved,Refused,Canceled ,Unused_offer\n",
    "\n",
    "fig,((ax1,ax2),(ax3,ax4))=plt.subplots(nrows=2,ncols=2, figsize=(10,10),sharey=True)\n",
    "Ax1=sns.countplot(ax=ax1,x=Approved['NAME_CONTRACT_TYPE_x'])\n",
    "ax1.set_title(' total count oftype of loan those are approved')\n",
    "ax1.set_ylabel('count of people')\n",
    "\n",
    "Ax2=sns.countplot(ax=ax2,x=Refused['NAME_CONTRACT_TYPE_x'])\n",
    "ax2.set_title('total count oftype of loan those are refused')\n",
    "ax2.set_ylabel('count of people')\n",
    "\n",
    "Ax3=sns.countplot(ax=ax3,x=Canceled['NAME_CONTRACT_TYPE_x'])\n",
    "ax3.set_title('total count oftype of loan that is cancelled')\n",
    "ax3.set_ylabel('count of people')\n",
    "\n",
    "Ax4=sns.countplot(ax=ax4,x=Unused_offer['NAME_CONTRACT_TYPE_x'])\n",
    "ax4.set_title('total count oftype of loan thouse were')\n",
    "ax4.set_ylabel('count of people')"
   ]
  },
  {
   "cell_type": "markdown",
   "id": "7114a215",
   "metadata": {},
   "source": [
    "**OBSERVATIONS**\n",
    "* we see there are more cash loan than revolving loan in all the contract status of the loan."
   ]
  },
  {
   "cell_type": "code",
   "execution_count": null,
   "id": "bd535792",
   "metadata": {},
   "outputs": [],
   "source": [
    "# Four Countplots showing distribution of education_type across the four dataframes:Approved,Refused,Canceled ,Unused_offer\n",
    "\n",
    "fig,((ax1,ax2),(ax3,ax4))=plt.subplots(nrows=2,ncols=2, figsize=(10,10),sharey=True)\n",
    "Ax1=sns.countplot(ax=ax1,x=Approved['NAME_EDUCATION_TYPE'])\n",
    "ax1.set_title('count of loan approved on different education types')\n",
    "ax1.set_ylabel('count of people')\n",
    "ax1.set_xticklabels(ax1.get_xticklabels(),rotation=90)\n",
    "\n",
    "Ax2=sns.countplot(ax=ax2,x=Refused['NAME_EDUCATION_TYPE'])\n",
    "ax2.set_title('count of loan refused on different education types')\n",
    "ax2.set_ylabel('count of people')\n",
    "ax2.set_xticklabels(ax2.get_xticklabels(),rotation=90)\n",
    "\n",
    "Ax3=sns.countplot(ax=ax3,x=Canceled['NAME_EDUCATION_TYPE'])\n",
    "ax3.set_title('count of loan canceled on different education types')\n",
    "ax3.set_ylabel('count of people')\n",
    "ax3.set_xticklabels(ax3.get_xticklabels(),rotation=90)\n",
    "\n",
    "Ax4=sns.countplot(ax=ax4,x=Unused_offer['NAME_EDUCATION_TYPE'])\n",
    "ax4.set_title('count of loan unused on different education types')\n",
    "ax4.set_ylabel('count of people')\n",
    "ax4.set_xticklabels(ax4.get_xticklabels(),rotation=90)\n"
   ]
  },
  {
   "cell_type": "markdown",
   "id": "583160b7",
   "metadata": {},
   "source": [
    "**OBSERVATIONS**\n",
    "* For Approved,Refused,Canceled contract status of loan, applicants with Secondary/Secondary sprecial is greater than those of the other education type.\n",
    "* For Unused_offer applicants with higher education is  greater than Secondary/Secondary sprecial education"
   ]
  },
  {
   "cell_type": "code",
   "execution_count": null,
   "id": "9471ae2d",
   "metadata": {},
   "outputs": [],
   "source": [
    "# Four Countplots showing distribution of different income types across the four dataframes:Approved,Refused,Canceled ,Unused_offer\n",
    "\n",
    "fig,((ax1,ax2),(ax3,ax4))=plt.subplots(nrows=2,ncols=2, figsize=(10,15),sharey=True)\n",
    "Ax1=sns.countplot(ax=ax1,x=Approved['NAME_INCOME_TYPE'])\n",
    "ax1.set_title(' total count of loan those are approved in different income type')\n",
    "ax1.set_ylabel('count of people')\n",
    "ax1.set_xticklabels(ax1.get_xticklabels(),rotation=45)\n",
    "\n",
    "\n",
    "Ax2=sns.countplot(ax=ax2,x=Refused['NAME_INCOME_TYPE'])\n",
    "ax2.set_title('total count of loan those are refused in different income type')\n",
    "ax2.set_ylabel('count of people')\n",
    "ax2.set_xticklabels(ax2.get_xticklabels(),rotation=45)\n",
    "\n",
    "\n",
    "Ax3=sns.countplot(ax=ax3,x=Canceled['NAME_INCOME_TYPE'])\n",
    "ax3.set_title('total count of loan that is cancelled in different income type')\n",
    "ax3.set_ylabel('count of people')\n",
    "ax3.set_xticklabels(ax3.get_xticklabels(),rotation=90)\n",
    "\n",
    "\n",
    "Ax4=sns.countplot(ax=ax4,x=Unused_offer['NAME_INCOME_TYPE'])\n",
    "ax4.set_title('total count of loan thouse were in different income type')\n",
    "ax4.set_ylabel('count of people')\n",
    "ax4.set_xticklabels(ax4.get_xticklabels(),rotation=45)\n"
   ]
  },
  {
   "cell_type": "markdown",
   "id": "da4366a3",
   "metadata": {},
   "source": [
    "**OBSERVATIONS**\n",
    "* The loans with approved contract status,have majority of working people.\n",
    "* The loans with refused contract status,have majority of working people.\n",
    "* The loans with canceled contract status,have majority of working people.\n"
   ]
  },
  {
   "cell_type": "code",
   "execution_count": null,
   "id": "969db113",
   "metadata": {},
   "outputs": [],
   "source": [
    "Approved.columns"
   ]
  },
  {
   "cell_type": "code",
   "execution_count": null,
   "id": "2e0cf25e",
   "metadata": {},
   "outputs": [],
   "source": [
    "# Four Countplots showing distribution of different family state across the four dataframes:Approved,Refused,Canceled ,Unused_offer\n",
    "\n",
    "fig,((ax1,ax2),(ax3,ax4))=plt.subplots(nrows=2,ncols=2, figsize=(15,10),sharey=True)\n",
    "Ax1=sns.countplot(ax=ax1,x=Approved['NAME_FAMILY_STATUS'])\n",
    "ax1.set_title('count of diiferent family state of people whose loan were approved')\n",
    "ax1.set_ylabel('count of people')\n",
    "ax1.set_xticklabels(ax1.get_xticklabels(),rotation=15)\n",
    "\n",
    "\n",
    "Ax2=sns.countplot(ax=ax2,x=Refused['NAME_FAMILY_STATUS'])\n",
    "ax2.set_title('count of diiferent family state of people whose loan were refused')\n",
    "ax2.set_ylabel('count of people')\n",
    "ax2.set_xticklabels(ax2.get_xticklabels(),rotation=15)\n",
    "\n",
    "\n",
    "Ax3=sns.countplot(ax=ax3,x=Canceled['NAME_FAMILY_STATUS'])\n",
    "ax3.set_title('count of diiferent family state of people whose loan were cancelled')\n",
    "ax3.set_ylabel('count of people')\n",
    "ax3.set_xticklabels(ax3.get_xticklabels(),rotation=90)\n",
    "\n",
    "Ax4=sns.countplot(ax=ax4,x=Unused_offer['NAME_FAMILY_STATUS'])\n",
    "ax4.set_title('count of diiferent family state of people whose loan were unused')\n",
    "ax4.set_ylabel('count of people')\n",
    "ax4.set_xticklabels(ax4.get_xticklabels(),rotation=90)\n"
   ]
  },
  {
   "cell_type": "code",
   "execution_count": null,
   "id": "cb4e4f8b",
   "metadata": {},
   "outputs": [],
   "source": [
    "# Four Countplots showing distribution of different housing types across the four dataframes:Approved,Refused,Canceled ,Unused_offer\n",
    "\n",
    "fig,((ax1,ax2),(ax3,ax4))=plt.subplots(nrows=2,ncols=2, figsize=(15,10),sharey=True)\n",
    "Ax1=sns.countplot(ax=ax1,x=Approved['NAME_HOUSING_TYPE'])\n",
    "ax1.set_title('housing type of people whose loan were approved')\n",
    "ax1.set_ylabel('count of people')\n",
    "ax1.set_xticklabels(ax1.get_xticklabels(),rotation=15)\n",
    "\n",
    "\n",
    "Ax2=sns.countplot(ax=ax2,x=Refused['NAME_HOUSING_TYPE'])\n",
    "ax2.set_title('housing type of people whose loan were refused')\n",
    "ax2.set_ylabel('count of people')\n",
    "ax2.set_xticklabels(ax2.get_xticklabels(),rotation=15)\n",
    "\n",
    "\n",
    "Ax3=sns.countplot(ax=ax3,x=Canceled['NAME_HOUSING_TYPE'])\n",
    "ax3.set_title('housing type of people whose loan were cancelled')\n",
    "ax3.set_ylabel('count of people')\n",
    "ax3.set_xticklabels(ax3.get_xticklabels(),rotation=90)\n",
    "\n",
    "Ax4=sns.countplot(ax=ax4,x=Unused_offer['NAME_HOUSING_TYPE'])\n",
    "ax4.set_title('housing type of people whose loan were unused')\n",
    "ax4.set_ylabel('count of people')\n",
    "ax4.set_xticklabels(ax4.get_xticklabels(),rotation=90)"
   ]
  },
  {
   "cell_type": "markdown",
   "id": "a0df6538",
   "metadata": {},
   "source": [
    "**OBSERVATIONS**\n",
    "* in all contract status, the majority ofapplicants have House/appartments."
   ]
  },
  {
   "cell_type": "code",
   "execution_count": null,
   "id": "c0bd7751",
   "metadata": {},
   "outputs": [],
   "source": [
    "# Four Countplots showing distribution of wheter the appricants phone was reachable or not across the four dataframes:Approved,Refused,Canceled ,Unused_offer\n",
    "\n",
    "fig,((ax1,ax2),(ax3,ax4))=plt.subplots(nrows=2,ncols=2, figsize=(15,10),sharey=True)\n",
    "Ax1=sns.countplot(ax=ax1,x=Approved['FLAG_CONT_MOBILE'])\n",
    "ax1.set_title('number of approved ppl whose phone were reachable or not')\n",
    "ax1.set_ylabel('count of people')\n",
    "\n",
    "\n",
    "Ax2=sns.countplot(ax=ax2,x=Refused['FLAG_CONT_MOBILE'])\n",
    "ax2.set_title('number of refused ppl whose phone were reachable or not')\n",
    "ax2.set_ylabel('count of people')\n",
    "\n",
    "\n",
    "Ax3=sns.countplot(ax=ax3,x=Canceled['FLAG_CONT_MOBILE'])\n",
    "ax3.set_title('number of cancelled ppl whose phone were reachable or not')\n",
    "ax3.set_ylabel('count of people')\n",
    "\n",
    "Ax4=sns.countplot(ax=ax4,x=Unused_offer['FLAG_CONT_MOBILE'])\n",
    "ax4.set_title('number of unused ppl whose phone were reachable or not')\n",
    "ax4.set_ylabel('count of people')\n"
   ]
  },
  {
   "cell_type": "markdown",
   "id": "16e99cff",
   "metadata": {},
   "source": [
    "*****************************************************************"
   ]
  },
  {
   "cell_type": "code",
   "execution_count": null,
   "id": "dbfff386",
   "metadata": {},
   "outputs": [],
   "source": []
  }
 ],
 "metadata": {
  "kernelspec": {
   "display_name": "Python 3 (ipykernel)",
   "language": "python",
   "name": "python3"
  },
  "language_info": {
   "codemirror_mode": {
    "name": "ipython",
    "version": 3
   },
   "file_extension": ".py",
   "mimetype": "text/x-python",
   "name": "python",
   "nbconvert_exporter": "python",
   "pygments_lexer": "ipython3",
   "version": "3.9.13"
  }
 },
 "nbformat": 4,
 "nbformat_minor": 5
}
